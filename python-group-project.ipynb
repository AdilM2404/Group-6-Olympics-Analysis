{
 "cells": [
  {
   "cell_type": "markdown",
   "metadata": {},
   "source": [
    "<img src=\"Olympics_flag.png\" alt=\"Olympics Flag\" style=\"float: right; margin-right: 10px;\" width=\"300\">"
   ]
  },
  {
   "cell_type": "markdown",
   "metadata": {},
   "source": [
    "# The History of the Olympics - A Data Driven Analysis\n",
    "\n",
    "## 2024-25 Group: 6"
   ]
  },
  {
   "cell_type": "markdown",
   "metadata": {},
   "source": [
    "| GROUP                 |             6           |\n",
    "| --------------------- | ----------------------- |\n",
    "| Level                 | 7 (Postgraduate)        |\n",
    "| Course name           | MSc Business Analytics  |\n",
    "| Module code           | MN5813                  |\n",
    "| Module tutor          | Alex Reppel             |\n",
    "| Assignment number     | 1 _(Group assignment)_  |\n",
    "| Assignment title      | The History of the Olympics - A Data Driven Analysis  |"
   ]
  },
  {
   "cell_type": "markdown",
   "metadata": {},
   "source": [
    "| Candidate numbers                 |\n",
    "| ------------------------------------ |\n",
    "| 2503682|\n",
    "|2511608|\n",
    "|2508234|\n",
    "| 2507127|"
   ]
  },
  {
   "cell_type": "markdown",
   "metadata": {},
   "source": [
    "## Project summary"
   ]
  },
  {
   "cell_type": "markdown",
   "metadata": {},
   "source": [
    "The aim of this project was to explore the “120 years of Olympic history: athletes and results” dataset in order to gain a deeper insight into prevailing trends over the history of the Olympics. This project focussed specifically on how athlete demographics, and country successes shifted over time.\n",
    "<br>\n",
    "\n",
    "**Conclusions**\n",
    "<br>\n",
    "The average age of athletes competing at the Olympics reduced throughout the early 20th century until 1980. After this modern medicine and financial incentives have allowed athletes to compete at a higher level for longer, resulting in a year on year increase of the average age of competitors in the Olympics.\n",
    "\n",
    "The overall number of female athletes competing in the Olympics has increased since its inception, receiving a steep boost in 1980. As of 2024 the number of male and female athletes competing in the Olympics has achieved an even split. This is owed to the shift of attitude towards female athletes and gender roles in modern times. The overall number of athletes competing in each iteration of the Olympics has also generally increased. Financial incentives and globalisation of sport have played a big part in this trend, however political interference has provided challenges to participation in the past.\n",
    "\n",
    "There is some correlation between female representation and national performance at the Olympics. It is important to note that there are many factors that affect performance of teams at the Olympics. However, increased participation of female athletes at the Olympics generally led to better performances from competing nations."
   ]
  },
  {
   "cell_type": "markdown",
   "metadata": {},
   "source": [
    "## Generative AI"
   ]
  },
  {
   "cell_type": "markdown",
   "metadata": {},
   "source": [
    "Generative AI has been used for this report, However no code has been plagiarised. AI has been used purely to provide insight into what can be done to reach project objectives, what libraries and functions can be used as well as how to use them and decoding error messages."
   ]
  },
  {
   "cell_type": "markdown",
   "metadata": {},
   "source": [
    "## Introduction"
   ]
  },
  {
   "cell_type": "markdown",
   "metadata": {},
   "source": [
    "This report is an exploratory analysis of the Olympics history. It takes an in depth look at the “120 years of Olympic history: athletes and results” dataset from Kaggle. The goal of the project is to analyze historical Olympic data to gain insights into athlete demographics, country performance, and gender representation trends over time. Whilst the data set includes data on the Summer and Winter Olympics, this analysis will only consider the Summer Olympics. <br>\n",
    "\n",
    "This project utilises Python and its vast array of libraries to Load, Clean, Wrangle and Export data.\n",
    "\n",
    "This project has three main objectives: <br>\n",
    "1. Analyze how athlete’s average ages have shifted over time.\n",
    "2. Track the evolution of gender representation among athletes.\n",
    "3. Investigate how shifting demographics have affected historically high performing nations."
   ]
  },
  {
   "cell_type": "markdown",
   "metadata": {},
   "source": [
    "## Setup"
   ]
  },
  {
   "cell_type": "markdown",
   "metadata": {},
   "source": [
    "### How to run this report"
   ]
  },
  {
   "cell_type": "markdown",
   "metadata": {},
   "source": [
    "The executable files for this report can be found by navigating to the following repository:\n",
    "\n",
    "link to repository: https://github.com/AdilM2404/Group-6-Olympics-Analysis\n",
    "\n",
    "Download the following files from the repository:\n",
    "\n",
    "1. `python-group-project.ipynb`\n",
    "2. `Olympics_flag.png`\n",
    "3. `athletes_events.csv`\n",
    "4. `noc_regions.csv`\n",
    "\n",
    "Once downloaded, it is necessary that all of the project files are located in the same folder. \n",
    "\n",
    "Here is a list of expected outputs to the project folder once this file is run:\n",
    "1. `df.csv` - The complete data set directly after merge, this file has been exported before the data cleaning and wrangling process.\n",
    "2. `df_clean.csv` - This is the cleaned data set and has been exported after the data cleaning and wrangling process.\n",
    "3. `df_summer.csv` - This is the final data set that has been used for this analysis, it is identical to the df_clean.csv data set, with the exception that it has been filtered to include only the Summer Olympics.\n",
    "4. Six separate png files of the visuals created within this report.\n",
    "\n",
    "If all of the aforementioned conditions are met, it indicates that the file has been executed successfully."
   ]
  },
  {
   "cell_type": "markdown",
   "metadata": {},
   "source": [
    "### Import necessary libraries"
   ]
  },
  {
   "cell_type": "code",
   "execution_count": 1,
   "metadata": {},
   "outputs": [],
   "source": [
    "import pandas as pd # To manage data frames\n",
    "import numpy as np # To help with basic functions\n",
    "import matplotlib.pyplot as plt # For visualisations\n",
    "import seaborn as sns # For visualisations"
   ]
  },
  {
   "cell_type": "markdown",
   "metadata": {},
   "source": [
    "### Load data"
   ]
  },
  {
   "cell_type": "code",
   "execution_count": 2,
   "metadata": {},
   "outputs": [],
   "source": [
    "data_source = \"https://www.kaggle.com/heesoo37/120-years-of-olympic-history-athletes-and-results\""
   ]
  },
  {
   "cell_type": "markdown",
   "metadata": {},
   "source": [
    "### Convert into DataFrame"
   ]
  },
  {
   "cell_type": "markdown",
   "metadata": {},
   "source": [
    "Create data frames from the csv files that have been downloaded from the given url. There are two of these files and both must be imported."
   ]
  },
  {
   "cell_type": "code",
   "execution_count": 3,
   "metadata": {},
   "outputs": [],
   "source": [
    "athlete_events = pd.read_csv('athlete_events.csv')\n",
    "noc_regions = pd.read_csv('noc_regions.csv')"
   ]
  },
  {
   "cell_type": "markdown",
   "metadata": {},
   "source": [
    "Merge the two data frames. Outer join has been utilised in order to retain all data from both files. "
   ]
  },
  {
   "cell_type": "code",
   "execution_count": 4,
   "metadata": {},
   "outputs": [],
   "source": [
    "df = pd.merge(athlete_events, noc_regions, on='NOC', how='outer')"
   ]
  },
  {
   "cell_type": "markdown",
   "metadata": {},
   "source": [
    "Export the new data frame as `df`. It will be exported as a csv file."
   ]
  },
  {
   "cell_type": "code",
   "execution_count": 5,
   "metadata": {},
   "outputs": [],
   "source": [
    "df.to_csv('df.csv', index = False)"
   ]
  },
  {
   "cell_type": "markdown",
   "metadata": {},
   "source": [
    "Display the first few rows and basic information about the DataFrame `df` that have been created from `data_source`."
   ]
  },
  {
   "cell_type": "code",
   "execution_count": 6,
   "metadata": {},
   "outputs": [
    {
     "data": {
      "text/html": [
       "<div>\n",
       "<style scoped>\n",
       "    .dataframe tbody tr th:only-of-type {\n",
       "        vertical-align: middle;\n",
       "    }\n",
       "\n",
       "    .dataframe tbody tr th {\n",
       "        vertical-align: top;\n",
       "    }\n",
       "\n",
       "    .dataframe thead th {\n",
       "        text-align: right;\n",
       "    }\n",
       "</style>\n",
       "<table border=\"1\" class=\"dataframe\">\n",
       "  <thead>\n",
       "    <tr style=\"text-align: right;\">\n",
       "      <th></th>\n",
       "      <th>ID</th>\n",
       "      <th>Name</th>\n",
       "      <th>Sex</th>\n",
       "      <th>Age</th>\n",
       "      <th>Height</th>\n",
       "      <th>Weight</th>\n",
       "      <th>Team</th>\n",
       "      <th>NOC</th>\n",
       "      <th>Games</th>\n",
       "      <th>Year</th>\n",
       "      <th>Season</th>\n",
       "      <th>City</th>\n",
       "      <th>Sport</th>\n",
       "      <th>Event</th>\n",
       "      <th>Medal</th>\n",
       "      <th>region</th>\n",
       "      <th>notes</th>\n",
       "    </tr>\n",
       "  </thead>\n",
       "  <tbody>\n",
       "    <tr>\n",
       "      <th>0</th>\n",
       "      <td>1.0</td>\n",
       "      <td>A Dijiang</td>\n",
       "      <td>M</td>\n",
       "      <td>24.0</td>\n",
       "      <td>180.0</td>\n",
       "      <td>80.0</td>\n",
       "      <td>China</td>\n",
       "      <td>CHN</td>\n",
       "      <td>1992 Summer</td>\n",
       "      <td>1992.0</td>\n",
       "      <td>Summer</td>\n",
       "      <td>Barcelona</td>\n",
       "      <td>Basketball</td>\n",
       "      <td>Basketball Men's Basketball</td>\n",
       "      <td>NaN</td>\n",
       "      <td>China</td>\n",
       "      <td>NaN</td>\n",
       "    </tr>\n",
       "    <tr>\n",
       "      <th>1</th>\n",
       "      <td>2.0</td>\n",
       "      <td>A Lamusi</td>\n",
       "      <td>M</td>\n",
       "      <td>23.0</td>\n",
       "      <td>170.0</td>\n",
       "      <td>60.0</td>\n",
       "      <td>China</td>\n",
       "      <td>CHN</td>\n",
       "      <td>2012 Summer</td>\n",
       "      <td>2012.0</td>\n",
       "      <td>Summer</td>\n",
       "      <td>London</td>\n",
       "      <td>Judo</td>\n",
       "      <td>Judo Men's Extra-Lightweight</td>\n",
       "      <td>NaN</td>\n",
       "      <td>China</td>\n",
       "      <td>NaN</td>\n",
       "    </tr>\n",
       "    <tr>\n",
       "      <th>2</th>\n",
       "      <td>602.0</td>\n",
       "      <td>Abudoureheman</td>\n",
       "      <td>M</td>\n",
       "      <td>22.0</td>\n",
       "      <td>182.0</td>\n",
       "      <td>75.0</td>\n",
       "      <td>China</td>\n",
       "      <td>CHN</td>\n",
       "      <td>2000 Summer</td>\n",
       "      <td>2000.0</td>\n",
       "      <td>Summer</td>\n",
       "      <td>Sydney</td>\n",
       "      <td>Boxing</td>\n",
       "      <td>Boxing Men's Middleweight</td>\n",
       "      <td>NaN</td>\n",
       "      <td>China</td>\n",
       "      <td>NaN</td>\n",
       "    </tr>\n",
       "    <tr>\n",
       "      <th>3</th>\n",
       "      <td>1463.0</td>\n",
       "      <td>Ai Linuer</td>\n",
       "      <td>M</td>\n",
       "      <td>25.0</td>\n",
       "      <td>160.0</td>\n",
       "      <td>62.0</td>\n",
       "      <td>China</td>\n",
       "      <td>CHN</td>\n",
       "      <td>2004 Summer</td>\n",
       "      <td>2004.0</td>\n",
       "      <td>Summer</td>\n",
       "      <td>Athina</td>\n",
       "      <td>Wrestling</td>\n",
       "      <td>Wrestling Men's Lightweight, Greco-Roman</td>\n",
       "      <td>NaN</td>\n",
       "      <td>China</td>\n",
       "      <td>NaN</td>\n",
       "    </tr>\n",
       "    <tr>\n",
       "      <th>4</th>\n",
       "      <td>1464.0</td>\n",
       "      <td>Ai Yanhan</td>\n",
       "      <td>F</td>\n",
       "      <td>14.0</td>\n",
       "      <td>168.0</td>\n",
       "      <td>54.0</td>\n",
       "      <td>China</td>\n",
       "      <td>CHN</td>\n",
       "      <td>2016 Summer</td>\n",
       "      <td>2016.0</td>\n",
       "      <td>Summer</td>\n",
       "      <td>Rio de Janeiro</td>\n",
       "      <td>Swimming</td>\n",
       "      <td>Swimming Women's 200 metres Freestyle</td>\n",
       "      <td>NaN</td>\n",
       "      <td>China</td>\n",
       "      <td>NaN</td>\n",
       "    </tr>\n",
       "  </tbody>\n",
       "</table>\n",
       "</div>"
      ],
      "text/plain": [
       "       ID           Name Sex   Age  Height  Weight   Team  NOC        Games  \\\n",
       "0     1.0      A Dijiang   M  24.0   180.0    80.0  China  CHN  1992 Summer   \n",
       "1     2.0       A Lamusi   M  23.0   170.0    60.0  China  CHN  2012 Summer   \n",
       "2   602.0  Abudoureheman   M  22.0   182.0    75.0  China  CHN  2000 Summer   \n",
       "3  1463.0      Ai Linuer   M  25.0   160.0    62.0  China  CHN  2004 Summer   \n",
       "4  1464.0      Ai Yanhan   F  14.0   168.0    54.0  China  CHN  2016 Summer   \n",
       "\n",
       "     Year  Season            City       Sport  \\\n",
       "0  1992.0  Summer       Barcelona  Basketball   \n",
       "1  2012.0  Summer          London        Judo   \n",
       "2  2000.0  Summer          Sydney      Boxing   \n",
       "3  2004.0  Summer          Athina   Wrestling   \n",
       "4  2016.0  Summer  Rio de Janeiro    Swimming   \n",
       "\n",
       "                                      Event Medal region notes  \n",
       "0               Basketball Men's Basketball   NaN  China   NaN  \n",
       "1              Judo Men's Extra-Lightweight   NaN  China   NaN  \n",
       "2                 Boxing Men's Middleweight   NaN  China   NaN  \n",
       "3  Wrestling Men's Lightweight, Greco-Roman   NaN  China   NaN  \n",
       "4     Swimming Women's 200 metres Freestyle   NaN  China   NaN  "
      ]
     },
     "execution_count": 6,
     "metadata": {},
     "output_type": "execute_result"
    }
   ],
   "source": [
    "df.head() # Inspecting the data heads."
   ]
  },
  {
   "cell_type": "code",
   "execution_count": 7,
   "metadata": {},
   "outputs": [
    {
     "name": "stdout",
     "output_type": "stream",
     "text": [
      "<class 'pandas.core.frame.DataFrame'>\n",
      "Int64Index: 271117 entries, 0 to 271116\n",
      "Data columns (total 17 columns):\n",
      " #   Column  Non-Null Count   Dtype  \n",
      "---  ------  --------------   -----  \n",
      " 0   ID      271116 non-null  float64\n",
      " 1   Name    271116 non-null  object \n",
      " 2   Sex     271116 non-null  object \n",
      " 3   Age     261642 non-null  float64\n",
      " 4   Height  210945 non-null  float64\n",
      " 5   Weight  208241 non-null  float64\n",
      " 6   Team    271116 non-null  object \n",
      " 7   NOC     271117 non-null  object \n",
      " 8   Games   271116 non-null  object \n",
      " 9   Year    271116 non-null  float64\n",
      " 10  Season  271116 non-null  object \n",
      " 11  City    271116 non-null  object \n",
      " 12  Sport   271116 non-null  object \n",
      " 13  Event   271116 non-null  object \n",
      " 14  Medal   39783 non-null   object \n",
      " 15  region  270747 non-null  object \n",
      " 16  notes   5039 non-null    object \n",
      "dtypes: float64(5), object(12)\n",
      "memory usage: 37.2+ MB\n"
     ]
    }
   ],
   "source": [
    "df.info() # Inspecting the column information."
   ]
  },
  {
   "cell_type": "code",
   "execution_count": 8,
   "metadata": {},
   "outputs": [
    {
     "data": {
      "text/plain": [
       "ID             1\n",
       "Name           1\n",
       "Sex            1\n",
       "Age         9475\n",
       "Height     60172\n",
       "Weight     62876\n",
       "Team           1\n",
       "NOC            0\n",
       "Games          1\n",
       "Year           1\n",
       "Season         1\n",
       "City           1\n",
       "Sport          1\n",
       "Event          1\n",
       "Medal     231334\n",
       "region       370\n",
       "notes     266078\n",
       "dtype: int64"
      ]
     },
     "execution_count": 8,
     "metadata": {},
     "output_type": "execute_result"
    }
   ],
   "source": [
    "df.isnull().sum() # Looking at Null values to provide the starting point for data cleaning"
   ]
  },
  {
   "cell_type": "markdown",
   "metadata": {},
   "source": [
    "## Data management"
   ]
  },
  {
   "cell_type": "markdown",
   "metadata": {},
   "source": [
    "### Data cleaning"
   ]
  },
  {
   "cell_type": "markdown",
   "metadata": {},
   "source": [
    "#### Null value in ID column"
   ]
  },
  {
   "cell_type": "markdown",
   "metadata": {},
   "source": [
    "There is one `Null` value in the `ID` column."
   ]
  },
  {
   "cell_type": "code",
   "execution_count": 9,
   "metadata": {},
   "outputs": [
    {
     "data": {
      "text/html": [
       "<div>\n",
       "<style scoped>\n",
       "    .dataframe tbody tr th:only-of-type {\n",
       "        vertical-align: middle;\n",
       "    }\n",
       "\n",
       "    .dataframe tbody tr th {\n",
       "        vertical-align: top;\n",
       "    }\n",
       "\n",
       "    .dataframe thead th {\n",
       "        text-align: right;\n",
       "    }\n",
       "</style>\n",
       "<table border=\"1\" class=\"dataframe\">\n",
       "  <thead>\n",
       "    <tr style=\"text-align: right;\">\n",
       "      <th></th>\n",
       "      <th>ID</th>\n",
       "      <th>Name</th>\n",
       "      <th>Sex</th>\n",
       "      <th>Age</th>\n",
       "      <th>Height</th>\n",
       "      <th>Weight</th>\n",
       "      <th>Team</th>\n",
       "      <th>NOC</th>\n",
       "      <th>Games</th>\n",
       "      <th>Year</th>\n",
       "      <th>Season</th>\n",
       "      <th>City</th>\n",
       "      <th>Sport</th>\n",
       "      <th>Event</th>\n",
       "      <th>Medal</th>\n",
       "      <th>region</th>\n",
       "      <th>notes</th>\n",
       "    </tr>\n",
       "  </thead>\n",
       "  <tbody>\n",
       "    <tr>\n",
       "      <th>271116</th>\n",
       "      <td>NaN</td>\n",
       "      <td>NaN</td>\n",
       "      <td>NaN</td>\n",
       "      <td>NaN</td>\n",
       "      <td>NaN</td>\n",
       "      <td>NaN</td>\n",
       "      <td>NaN</td>\n",
       "      <td>SIN</td>\n",
       "      <td>NaN</td>\n",
       "      <td>NaN</td>\n",
       "      <td>NaN</td>\n",
       "      <td>NaN</td>\n",
       "      <td>NaN</td>\n",
       "      <td>NaN</td>\n",
       "      <td>NaN</td>\n",
       "      <td>Singapore</td>\n",
       "      <td>NaN</td>\n",
       "    </tr>\n",
       "  </tbody>\n",
       "</table>\n",
       "</div>"
      ],
      "text/plain": [
       "        ID Name  Sex  Age  Height  Weight Team  NOC Games  Year Season City  \\\n",
       "271116 NaN  NaN  NaN  NaN     NaN     NaN  NaN  SIN   NaN   NaN    NaN  NaN   \n",
       "\n",
       "       Sport Event Medal     region notes  \n",
       "271116   NaN   NaN   NaN  Singapore   NaN  "
      ]
     },
     "execution_count": 9,
     "metadata": {},
     "output_type": "execute_result"
    }
   ],
   "source": [
    "df[df['ID'].isnull()] # Assess the null value in the ID column"
   ]
  },
  {
   "cell_type": "markdown",
   "metadata": {},
   "source": [
    "This row only has one value and does not provide any information on athletes or events. As it is not required, this row can be deleted using the `dropna` function."
   ]
  },
  {
   "cell_type": "code",
   "execution_count": 10,
   "metadata": {
    "scrolled": false
   },
   "outputs": [
    {
     "data": {
      "text/plain": [
       "ID             0\n",
       "Name           0\n",
       "Sex            0\n",
       "Age         9474\n",
       "Height     60171\n",
       "Weight     62875\n",
       "Team           0\n",
       "NOC            0\n",
       "Games          0\n",
       "Year           0\n",
       "Season         0\n",
       "City           0\n",
       "Sport          0\n",
       "Event          0\n",
       "Medal     231333\n",
       "region       370\n",
       "notes     266077\n",
       "dtype: int64"
      ]
     },
     "execution_count": 10,
     "metadata": {},
     "output_type": "execute_result"
    }
   ],
   "source": [
    "df = df.dropna(subset=['ID']) # Drop all values where ID is null\n",
    "\n",
    "df.isnull().sum()"
   ]
  },
  {
   "cell_type": "markdown",
   "metadata": {},
   "source": [
    "#### Null values in Region column"
   ]
  },
  {
   "cell_type": "code",
   "execution_count": 11,
   "metadata": {
    "scrolled": false
   },
   "outputs": [
    {
     "data": {
      "text/html": [
       "<div>\n",
       "<style scoped>\n",
       "    .dataframe tbody tr th:only-of-type {\n",
       "        vertical-align: middle;\n",
       "    }\n",
       "\n",
       "    .dataframe tbody tr th {\n",
       "        vertical-align: top;\n",
       "    }\n",
       "\n",
       "    .dataframe thead th {\n",
       "        text-align: right;\n",
       "    }\n",
       "</style>\n",
       "<table border=\"1\" class=\"dataframe\">\n",
       "  <thead>\n",
       "    <tr style=\"text-align: right;\">\n",
       "      <th></th>\n",
       "      <th>ID</th>\n",
       "      <th>Name</th>\n",
       "      <th>Sex</th>\n",
       "      <th>Age</th>\n",
       "      <th>Height</th>\n",
       "      <th>Weight</th>\n",
       "      <th>Team</th>\n",
       "      <th>NOC</th>\n",
       "      <th>Games</th>\n",
       "      <th>Year</th>\n",
       "      <th>Season</th>\n",
       "      <th>City</th>\n",
       "      <th>Sport</th>\n",
       "      <th>Event</th>\n",
       "      <th>Medal</th>\n",
       "      <th>region</th>\n",
       "      <th>notes</th>\n",
       "    </tr>\n",
       "  </thead>\n",
       "  <tbody>\n",
       "    <tr>\n",
       "      <th>162565</th>\n",
       "      <td>332.0</td>\n",
       "      <td>Zarinah Abdullah</td>\n",
       "      <td>F</td>\n",
       "      <td>21.0</td>\n",
       "      <td>NaN</td>\n",
       "      <td>NaN</td>\n",
       "      <td>Singapore</td>\n",
       "      <td>SGP</td>\n",
       "      <td>1992 Summer</td>\n",
       "      <td>1992.0</td>\n",
       "      <td>Summer</td>\n",
       "      <td>Barcelona</td>\n",
       "      <td>Badminton</td>\n",
       "      <td>Badminton Women's Singles</td>\n",
       "      <td>NaN</td>\n",
       "      <td>NaN</td>\n",
       "      <td>NaN</td>\n",
       "    </tr>\n",
       "    <tr>\n",
       "      <th>162566</th>\n",
       "      <td>332.0</td>\n",
       "      <td>Zarinah Abdullah</td>\n",
       "      <td>F</td>\n",
       "      <td>25.0</td>\n",
       "      <td>NaN</td>\n",
       "      <td>NaN</td>\n",
       "      <td>Singapore</td>\n",
       "      <td>SGP</td>\n",
       "      <td>1996 Summer</td>\n",
       "      <td>1996.0</td>\n",
       "      <td>Summer</td>\n",
       "      <td>Atlanta</td>\n",
       "      <td>Badminton</td>\n",
       "      <td>Badminton Women's Singles</td>\n",
       "      <td>NaN</td>\n",
       "      <td>NaN</td>\n",
       "      <td>NaN</td>\n",
       "    </tr>\n",
       "    <tr>\n",
       "      <th>162567</th>\n",
       "      <td>1515.0</td>\n",
       "      <td>Saiyidah Aisyah Mohamed Rafa'ee</td>\n",
       "      <td>F</td>\n",
       "      <td>28.0</td>\n",
       "      <td>173.0</td>\n",
       "      <td>68.0</td>\n",
       "      <td>Singapore</td>\n",
       "      <td>SGP</td>\n",
       "      <td>2016 Summer</td>\n",
       "      <td>2016.0</td>\n",
       "      <td>Summer</td>\n",
       "      <td>Rio de Janeiro</td>\n",
       "      <td>Rowing</td>\n",
       "      <td>Rowing Women's Single Sculls</td>\n",
       "      <td>NaN</td>\n",
       "      <td>NaN</td>\n",
       "      <td>NaN</td>\n",
       "    </tr>\n",
       "    <tr>\n",
       "      <th>162568</th>\n",
       "      <td>4264.0</td>\n",
       "      <td>Ang Peng Siong</td>\n",
       "      <td>M</td>\n",
       "      <td>21.0</td>\n",
       "      <td>180.0</td>\n",
       "      <td>75.0</td>\n",
       "      <td>Singapore</td>\n",
       "      <td>SGP</td>\n",
       "      <td>1984 Summer</td>\n",
       "      <td>1984.0</td>\n",
       "      <td>Summer</td>\n",
       "      <td>Los Angeles</td>\n",
       "      <td>Swimming</td>\n",
       "      <td>Swimming Men's 100 metres Freestyle</td>\n",
       "      <td>NaN</td>\n",
       "      <td>NaN</td>\n",
       "      <td>NaN</td>\n",
       "    </tr>\n",
       "    <tr>\n",
       "      <th>162569</th>\n",
       "      <td>4264.0</td>\n",
       "      <td>Ang Peng Siong</td>\n",
       "      <td>M</td>\n",
       "      <td>21.0</td>\n",
       "      <td>180.0</td>\n",
       "      <td>75.0</td>\n",
       "      <td>Singapore</td>\n",
       "      <td>SGP</td>\n",
       "      <td>1984 Summer</td>\n",
       "      <td>1984.0</td>\n",
       "      <td>Summer</td>\n",
       "      <td>Los Angeles</td>\n",
       "      <td>Swimming</td>\n",
       "      <td>Swimming Men's 4 x 100 metres Freestyle Relay</td>\n",
       "      <td>NaN</td>\n",
       "      <td>NaN</td>\n",
       "      <td>NaN</td>\n",
       "    </tr>\n",
       "    <tr>\n",
       "      <th>...</th>\n",
       "      <td>...</td>\n",
       "      <td>...</td>\n",
       "      <td>...</td>\n",
       "      <td>...</td>\n",
       "      <td>...</td>\n",
       "      <td>...</td>\n",
       "      <td>...</td>\n",
       "      <td>...</td>\n",
       "      <td>...</td>\n",
       "      <td>...</td>\n",
       "      <td>...</td>\n",
       "      <td>...</td>\n",
       "      <td>...</td>\n",
       "      <td>...</td>\n",
       "      <td>...</td>\n",
       "      <td>...</td>\n",
       "      <td>...</td>\n",
       "    </tr>\n",
       "    <tr>\n",
       "      <th>271033</th>\n",
       "      <td>74540.0</td>\n",
       "      <td>Asenate Manoa</td>\n",
       "      <td>F</td>\n",
       "      <td>16.0</td>\n",
       "      <td>NaN</td>\n",
       "      <td>46.0</td>\n",
       "      <td>Tuvalu</td>\n",
       "      <td>TUV</td>\n",
       "      <td>2008 Summer</td>\n",
       "      <td>2008.0</td>\n",
       "      <td>Summer</td>\n",
       "      <td>Beijing</td>\n",
       "      <td>Athletics</td>\n",
       "      <td>Athletics Women's 100 metres</td>\n",
       "      <td>NaN</td>\n",
       "      <td>NaN</td>\n",
       "      <td>Tuvalu</td>\n",
       "    </tr>\n",
       "    <tr>\n",
       "      <th>271034</th>\n",
       "      <td>74540.0</td>\n",
       "      <td>Asenate Manoa</td>\n",
       "      <td>F</td>\n",
       "      <td>20.0</td>\n",
       "      <td>NaN</td>\n",
       "      <td>46.0</td>\n",
       "      <td>Tuvalu</td>\n",
       "      <td>TUV</td>\n",
       "      <td>2012 Summer</td>\n",
       "      <td>2012.0</td>\n",
       "      <td>Summer</td>\n",
       "      <td>London</td>\n",
       "      <td>Athletics</td>\n",
       "      <td>Athletics Women's 100 metres</td>\n",
       "      <td>NaN</td>\n",
       "      <td>NaN</td>\n",
       "      <td>Tuvalu</td>\n",
       "    </tr>\n",
       "    <tr>\n",
       "      <th>271035</th>\n",
       "      <td>86663.0</td>\n",
       "      <td>Tavevele Noa</td>\n",
       "      <td>M</td>\n",
       "      <td>20.0</td>\n",
       "      <td>176.0</td>\n",
       "      <td>74.0</td>\n",
       "      <td>Tuvalu</td>\n",
       "      <td>TUV</td>\n",
       "      <td>2012 Summer</td>\n",
       "      <td>2012.0</td>\n",
       "      <td>Summer</td>\n",
       "      <td>London</td>\n",
       "      <td>Athletics</td>\n",
       "      <td>Athletics Men's 100 metres</td>\n",
       "      <td>NaN</td>\n",
       "      <td>NaN</td>\n",
       "      <td>Tuvalu</td>\n",
       "    </tr>\n",
       "    <tr>\n",
       "      <th>271036</th>\n",
       "      <td>120422.0</td>\n",
       "      <td>Etimoni Timuani</td>\n",
       "      <td>M</td>\n",
       "      <td>24.0</td>\n",
       "      <td>184.0</td>\n",
       "      <td>72.0</td>\n",
       "      <td>Tuvalu</td>\n",
       "      <td>TUV</td>\n",
       "      <td>2016 Summer</td>\n",
       "      <td>2016.0</td>\n",
       "      <td>Summer</td>\n",
       "      <td>Rio de Janeiro</td>\n",
       "      <td>Athletics</td>\n",
       "      <td>Athletics Men's 100 metres</td>\n",
       "      <td>NaN</td>\n",
       "      <td>NaN</td>\n",
       "      <td>Tuvalu</td>\n",
       "    </tr>\n",
       "    <tr>\n",
       "      <th>271037</th>\n",
       "      <td>120439.0</td>\n",
       "      <td>Okilani Tinilau</td>\n",
       "      <td>M</td>\n",
       "      <td>19.0</td>\n",
       "      <td>NaN</td>\n",
       "      <td>NaN</td>\n",
       "      <td>Tuvalu</td>\n",
       "      <td>TUV</td>\n",
       "      <td>2008 Summer</td>\n",
       "      <td>2008.0</td>\n",
       "      <td>Summer</td>\n",
       "      <td>Beijing</td>\n",
       "      <td>Athletics</td>\n",
       "      <td>Athletics Men's 100 metres</td>\n",
       "      <td>NaN</td>\n",
       "      <td>NaN</td>\n",
       "      <td>Tuvalu</td>\n",
       "    </tr>\n",
       "  </tbody>\n",
       "</table>\n",
       "<p>370 rows × 17 columns</p>\n",
       "</div>"
      ],
      "text/plain": [
       "              ID                             Name Sex   Age  Height  Weight  \\\n",
       "162565     332.0                 Zarinah Abdullah   F  21.0     NaN     NaN   \n",
       "162566     332.0                 Zarinah Abdullah   F  25.0     NaN     NaN   \n",
       "162567    1515.0  Saiyidah Aisyah Mohamed Rafa'ee   F  28.0   173.0    68.0   \n",
       "162568    4264.0                   Ang Peng Siong   M  21.0   180.0    75.0   \n",
       "162569    4264.0                   Ang Peng Siong   M  21.0   180.0    75.0   \n",
       "...          ...                              ...  ..   ...     ...     ...   \n",
       "271033   74540.0                    Asenate Manoa   F  16.0     NaN    46.0   \n",
       "271034   74540.0                    Asenate Manoa   F  20.0     NaN    46.0   \n",
       "271035   86663.0                     Tavevele Noa   M  20.0   176.0    74.0   \n",
       "271036  120422.0                  Etimoni Timuani   M  24.0   184.0    72.0   \n",
       "271037  120439.0                  Okilani Tinilau   M  19.0     NaN     NaN   \n",
       "\n",
       "             Team  NOC        Games    Year  Season            City  \\\n",
       "162565  Singapore  SGP  1992 Summer  1992.0  Summer       Barcelona   \n",
       "162566  Singapore  SGP  1996 Summer  1996.0  Summer         Atlanta   \n",
       "162567  Singapore  SGP  2016 Summer  2016.0  Summer  Rio de Janeiro   \n",
       "162568  Singapore  SGP  1984 Summer  1984.0  Summer     Los Angeles   \n",
       "162569  Singapore  SGP  1984 Summer  1984.0  Summer     Los Angeles   \n",
       "...           ...  ...          ...     ...     ...             ...   \n",
       "271033     Tuvalu  TUV  2008 Summer  2008.0  Summer         Beijing   \n",
       "271034     Tuvalu  TUV  2012 Summer  2012.0  Summer          London   \n",
       "271035     Tuvalu  TUV  2012 Summer  2012.0  Summer          London   \n",
       "271036     Tuvalu  TUV  2016 Summer  2016.0  Summer  Rio de Janeiro   \n",
       "271037     Tuvalu  TUV  2008 Summer  2008.0  Summer         Beijing   \n",
       "\n",
       "            Sport                                          Event Medal region  \\\n",
       "162565  Badminton                      Badminton Women's Singles   NaN    NaN   \n",
       "162566  Badminton                      Badminton Women's Singles   NaN    NaN   \n",
       "162567     Rowing                   Rowing Women's Single Sculls   NaN    NaN   \n",
       "162568   Swimming            Swimming Men's 100 metres Freestyle   NaN    NaN   \n",
       "162569   Swimming  Swimming Men's 4 x 100 metres Freestyle Relay   NaN    NaN   \n",
       "...           ...                                            ...   ...    ...   \n",
       "271033  Athletics                   Athletics Women's 100 metres   NaN    NaN   \n",
       "271034  Athletics                   Athletics Women's 100 metres   NaN    NaN   \n",
       "271035  Athletics                     Athletics Men's 100 metres   NaN    NaN   \n",
       "271036  Athletics                     Athletics Men's 100 metres   NaN    NaN   \n",
       "271037  Athletics                     Athletics Men's 100 metres   NaN    NaN   \n",
       "\n",
       "         notes  \n",
       "162565     NaN  \n",
       "162566     NaN  \n",
       "162567     NaN  \n",
       "162568     NaN  \n",
       "162569     NaN  \n",
       "...        ...  \n",
       "271033  Tuvalu  \n",
       "271034  Tuvalu  \n",
       "271035  Tuvalu  \n",
       "271036  Tuvalu  \n",
       "271037  Tuvalu  \n",
       "\n",
       "[370 rows x 17 columns]"
      ]
     },
     "execution_count": 11,
     "metadata": {},
     "output_type": "execute_result"
    }
   ],
   "source": [
    "df[df['region'].isnull()] # Find all the Null values in the Region column"
   ]
  },
  {
   "cell_type": "markdown",
   "metadata": {},
   "source": [
    "Further exploration reveals that the `NOC` with abbreviation `SGP` belongs to `Singapore`, however this `NOC` does not have an assigned `Region`. As such, `Singapore` will be assigned as the `Region` for the `NOC` `SGP`.\n",
    "\n",
    "There is a similar issue with `Tuvalu`, `Refugee Olympic Athletes` and `Unknown` and so the same steps will be followed to correct each of these columns."
   ]
  },
  {
   "cell_type": "code",
   "execution_count": 12,
   "metadata": {},
   "outputs": [
    {
     "data": {
      "text/plain": [
       "ID             0\n",
       "Name           0\n",
       "Sex            0\n",
       "Age         9474\n",
       "Height     60171\n",
       "Weight     62875\n",
       "Team           0\n",
       "NOC            0\n",
       "Games          0\n",
       "Year           0\n",
       "Season         0\n",
       "City           0\n",
       "Sport          0\n",
       "Event          0\n",
       "Medal     231333\n",
       "region         0\n",
       "notes     266077\n",
       "dtype: int64"
      ]
     },
     "execution_count": 12,
     "metadata": {},
     "output_type": "execute_result"
    }
   ],
   "source": [
    "df.loc[df['NOC'] == 'SGP', 'region'] = 'Singapore' # Where NOC = 'SGP' assign Region as 'Singapore'\n",
    "df.loc[df['NOC'] == 'TUV', 'region'] = 'Tuvalu' # Where NOC = 'TUV' assign Region as 'Tuvalu'\n",
    "df.loc[df['NOC'] == 'ROT', 'region'] = 'Refugee Olympic Athletes' # Where NOC = 'ROT' assign Region as 'Refugee Olympic Athletes'\n",
    "df.loc[df['NOC'] == 'UNK', 'region'] = 'Unknown' # Where NOC = 'UNK' assign Region as 'Unknown'\n",
    "df.isnull().sum()"
   ]
  },
  {
   "cell_type": "markdown",
   "metadata": {},
   "source": [
    "#### Null values in the Medal column"
   ]
  },
  {
   "cell_type": "markdown",
   "metadata": {},
   "source": [
    "Upon further inspection it is observed that `Null` values in the `Medal` column exist in the circumstance where the competing athlete has not won a medal for the given event. These can be labelled as `'No Medal'`."
   ]
  },
  {
   "cell_type": "code",
   "execution_count": 13,
   "metadata": {},
   "outputs": [
    {
     "data": {
      "text/plain": [
       "ID             0\n",
       "Name           0\n",
       "Sex            0\n",
       "Age         9474\n",
       "Height     60171\n",
       "Weight     62875\n",
       "Team           0\n",
       "NOC            0\n",
       "Games          0\n",
       "Year           0\n",
       "Season         0\n",
       "City           0\n",
       "Sport          0\n",
       "Event          0\n",
       "Medal          0\n",
       "region         0\n",
       "notes     266077\n",
       "dtype: int64"
      ]
     },
     "execution_count": 13,
     "metadata": {},
     "output_type": "execute_result"
    }
   ],
   "source": [
    "df['Medal'] = df['Medal'].fillna('No Medal') # For the Medal column in the data frame, where Medal = Null, fill with 'No Medal'.\n",
    "df.isnull().sum()"
   ]
  },
  {
   "cell_type": "markdown",
   "metadata": {},
   "source": [
    "#### Null values in Age, Height and Weight columns"
   ]
  },
  {
   "cell_type": "markdown",
   "metadata": {},
   "source": [
    "As there is no accurate way to rectify missing values in the `Age`, `Height` and `Weight` columns without manual effort, it is necessary to assign a best guess based on other values in the data frame. the factors taken into account are: `Sex`, `Year`, `Sport` and `Region`. These factors have been chosen on the basis of having a strong correlation to the columns required to fill.\n",
    "\n",
    "Using `Age` as an example, the general idea is where `Age` is `Null`, fill the cell with the `Average Age` of athletes that are of the same `Sex`, participating in the same `Year`, `Sport` and from the same `Region`."
   ]
  },
  {
   "cell_type": "code",
   "execution_count": 14,
   "metadata": {},
   "outputs": [
    {
     "data": {
      "text/plain": [
       "ID             0\n",
       "Name           0\n",
       "Sex            0\n",
       "Age         1584\n",
       "Height     32323\n",
       "Weight     38592\n",
       "Team           0\n",
       "NOC            0\n",
       "Games          0\n",
       "Year           0\n",
       "Season         0\n",
       "City           0\n",
       "Sport          0\n",
       "Event          0\n",
       "Medal          0\n",
       "region         0\n",
       "notes     266077\n",
       "dtype: int64"
      ]
     },
     "execution_count": 14,
     "metadata": {},
     "output_type": "execute_result"
    }
   ],
   "source": [
    "df['Age'] = df['Age'].fillna(df.groupby(['Sex', 'Year', 'Sport', 'region'])['Age'].transform('mean')) # Fill the Null values in the age column with the average age of athletes, where Sex, Year, Sport and Region are the same.\n",
    "df['Height'] = df['Height'].fillna(df.groupby(['Sex', 'Year', 'Sport', 'region'])['Height'].transform('mean'))\n",
    "df['Weight'] = df['Weight'].fillna(df.groupby(['Sex', 'Year', 'Sport', 'region'])['Weight'].transform('mean'))\n",
    "df.isnull().sum()"
   ]
  },
  {
   "cell_type": "markdown",
   "metadata": {},
   "source": [
    "As there are still a considerable amount of `Null` values, the next iteration only include `Sex`, `Sport` and `Region`. Approximately half of the `Null` values have been cleaned and the reasonable next step should be to remove the `Year` consideration. This is tactically done as this factor presents the least affect of all others on `Age`, `Height` and `Weight`. Note that this next iteration will only fill `Null` values that are still prevalent in the data frame after the first iteration."
   ]
  },
  {
   "cell_type": "code",
   "execution_count": 15,
   "metadata": {
    "scrolled": true
   },
   "outputs": [
    {
     "data": {
      "text/plain": [
       "ID             0\n",
       "Name           0\n",
       "Sex            0\n",
       "Age          215\n",
       "Height      3431\n",
       "Weight      3772\n",
       "Team           0\n",
       "NOC            0\n",
       "Games          0\n",
       "Year           0\n",
       "Season         0\n",
       "City           0\n",
       "Sport          0\n",
       "Event          0\n",
       "Medal          0\n",
       "region         0\n",
       "notes     266077\n",
       "dtype: int64"
      ]
     },
     "execution_count": 15,
     "metadata": {},
     "output_type": "execute_result"
    }
   ],
   "source": [
    "df['Age'] = df['Age'].fillna(df.groupby(['Sex', 'region', 'Sport'])['Age'].transform('mean'))\n",
    "df['Height'] = df['Height'].fillna(df.groupby(['Sex', 'region', 'Sport'])['Height'].transform('mean'))\n",
    "df['Weight'] = df['Weight'].fillna(df.groupby(['Sex', 'region', 'Sport'])['Weight'].transform('mean'))\n",
    "df.isnull().sum()"
   ]
  },
  {
   "cell_type": "markdown",
   "metadata": {},
   "source": [
    "As there are still `Null` values, the next factor dropped is `Region`, as such this next iteration will only factor in `Sex` and `Sport`."
   ]
  },
  {
   "cell_type": "code",
   "execution_count": 16,
   "metadata": {},
   "outputs": [
    {
     "data": {
      "text/plain": [
       "ID             0\n",
       "Name           0\n",
       "Sex            0\n",
       "Age            0\n",
       "Height       100\n",
       "Weight       595\n",
       "Team           0\n",
       "NOC            0\n",
       "Games          0\n",
       "Year           0\n",
       "Season         0\n",
       "City           0\n",
       "Sport          0\n",
       "Event          0\n",
       "Medal          0\n",
       "region         0\n",
       "notes     266077\n",
       "dtype: int64"
      ]
     },
     "execution_count": 16,
     "metadata": {},
     "output_type": "execute_result"
    }
   ],
   "source": [
    "df['Age'] = df['Age'].fillna(df.groupby(['Sex', 'Sport'])['Age'].transform('mean'))\n",
    "df['Height'] = df['Height'].fillna(df.groupby(['Sex', 'Sport'])['Height'].transform('mean'))\n",
    "df['Weight'] = df['Weight'].fillna(df.groupby(['Sex', 'Sport'])['Weight'].transform('mean'))\n",
    "df.isnull().sum()"
   ]
  },
  {
   "cell_type": "markdown",
   "metadata": {},
   "source": [
    "As the `Age` column no longer has any missing values, the next iteration will include only `Sex` for the `Height` and `Weight` columns. Whilst this will likely produce inaccurate results, due to the small sample size, it is unlikely to skew the overall trends in the data too drastically."
   ]
  },
  {
   "cell_type": "code",
   "execution_count": 17,
   "metadata": {
    "scrolled": true
   },
   "outputs": [
    {
     "data": {
      "text/plain": [
       "ID             0\n",
       "Name           0\n",
       "Sex            0\n",
       "Age            0\n",
       "Height         0\n",
       "Weight         0\n",
       "Team           0\n",
       "NOC            0\n",
       "Games          0\n",
       "Year           0\n",
       "Season         0\n",
       "City           0\n",
       "Sport          0\n",
       "Event          0\n",
       "Medal          0\n",
       "region         0\n",
       "notes     266077\n",
       "dtype: int64"
      ]
     },
     "execution_count": 17,
     "metadata": {},
     "output_type": "execute_result"
    }
   ],
   "source": [
    "df['Height'] = df['Height'].fillna(df.groupby(['Sex'])['Height'].transform('mean'))\n",
    "df['Weight'] = df['Weight'].fillna(df.groupby(['Sex'])['Weight'].transform('mean'))\n",
    "df.isnull().sum()"
   ]
  },
  {
   "cell_type": "markdown",
   "metadata": {},
   "source": [
    "#### Converting Data Types"
   ]
  },
  {
   "cell_type": "code",
   "execution_count": 18,
   "metadata": {},
   "outputs": [
    {
     "name": "stdout",
     "output_type": "stream",
     "text": [
      "<class 'pandas.core.frame.DataFrame'>\n",
      "Int64Index: 271116 entries, 0 to 271115\n",
      "Data columns (total 17 columns):\n",
      " #   Column  Non-Null Count   Dtype  \n",
      "---  ------  --------------   -----  \n",
      " 0   ID      271116 non-null  float64\n",
      " 1   Name    271116 non-null  object \n",
      " 2   Sex     271116 non-null  object \n",
      " 3   Age     271116 non-null  float64\n",
      " 4   Height  271116 non-null  float64\n",
      " 5   Weight  271116 non-null  float64\n",
      " 6   Team    271116 non-null  object \n",
      " 7   NOC     271116 non-null  object \n",
      " 8   Games   271116 non-null  object \n",
      " 9   Year    271116 non-null  float64\n",
      " 10  Season  271116 non-null  object \n",
      " 11  City    271116 non-null  object \n",
      " 12  Sport   271116 non-null  object \n",
      " 13  Event   271116 non-null  object \n",
      " 14  Medal   271116 non-null  object \n",
      " 15  region  271116 non-null  object \n",
      " 16  notes   5039 non-null    object \n",
      "dtypes: float64(5), object(12)\n",
      "memory usage: 37.2+ MB\n"
     ]
    }
   ],
   "source": [
    "df.info() # Checking for data types"
   ]
  },
  {
   "cell_type": "markdown",
   "metadata": {},
   "source": [
    "Desired type conversions:\n",
    "\n",
    "1. ID - Integer\n",
    "2. Age - Integer\n",
    "3. Year - Datetime"
   ]
  },
  {
   "cell_type": "code",
   "execution_count": 19,
   "metadata": {
    "scrolled": true
   },
   "outputs": [
    {
     "name": "stdout",
     "output_type": "stream",
     "text": [
      "int32\n",
      "int32\n",
      "int64\n"
     ]
    }
   ],
   "source": [
    "df['ID'] = df['ID'].astype(int)\n",
    "df['Age'] = df['Age'].astype(int)\n",
    "df['Year'] = pd.to_datetime(df['Year'], format='%Y')\n",
    "df['Year'] = df['Year'].dt.year\n",
    "\n",
    "print((df['ID'].dtype))\n",
    "print((df['Age'].dtype))\n",
    "print((df['Year'].dtype))"
   ]
  },
  {
   "cell_type": "code",
   "execution_count": 20,
   "metadata": {
    "scrolled": true
   },
   "outputs": [
    {
     "data": {
      "text/html": [
       "<div>\n",
       "<style scoped>\n",
       "    .dataframe tbody tr th:only-of-type {\n",
       "        vertical-align: middle;\n",
       "    }\n",
       "\n",
       "    .dataframe tbody tr th {\n",
       "        vertical-align: top;\n",
       "    }\n",
       "\n",
       "    .dataframe thead th {\n",
       "        text-align: right;\n",
       "    }\n",
       "</style>\n",
       "<table border=\"1\" class=\"dataframe\">\n",
       "  <thead>\n",
       "    <tr style=\"text-align: right;\">\n",
       "      <th></th>\n",
       "      <th>ID</th>\n",
       "      <th>Name</th>\n",
       "      <th>Sex</th>\n",
       "      <th>Age</th>\n",
       "      <th>Height</th>\n",
       "      <th>Weight</th>\n",
       "      <th>Team</th>\n",
       "      <th>NOC</th>\n",
       "      <th>Games</th>\n",
       "      <th>Year</th>\n",
       "      <th>Season</th>\n",
       "      <th>City</th>\n",
       "      <th>Sport</th>\n",
       "      <th>Event</th>\n",
       "      <th>Medal</th>\n",
       "      <th>region</th>\n",
       "      <th>notes</th>\n",
       "    </tr>\n",
       "  </thead>\n",
       "  <tbody>\n",
       "    <tr>\n",
       "      <th>0</th>\n",
       "      <td>1</td>\n",
       "      <td>A Dijiang</td>\n",
       "      <td>M</td>\n",
       "      <td>24</td>\n",
       "      <td>180.0</td>\n",
       "      <td>80.0</td>\n",
       "      <td>China</td>\n",
       "      <td>CHN</td>\n",
       "      <td>1992 Summer</td>\n",
       "      <td>1992</td>\n",
       "      <td>Summer</td>\n",
       "      <td>Barcelona</td>\n",
       "      <td>Basketball</td>\n",
       "      <td>Basketball Men's Basketball</td>\n",
       "      <td>No Medal</td>\n",
       "      <td>China</td>\n",
       "      <td>NaN</td>\n",
       "    </tr>\n",
       "    <tr>\n",
       "      <th>1</th>\n",
       "      <td>2</td>\n",
       "      <td>A Lamusi</td>\n",
       "      <td>M</td>\n",
       "      <td>23</td>\n",
       "      <td>170.0</td>\n",
       "      <td>60.0</td>\n",
       "      <td>China</td>\n",
       "      <td>CHN</td>\n",
       "      <td>2012 Summer</td>\n",
       "      <td>2012</td>\n",
       "      <td>Summer</td>\n",
       "      <td>London</td>\n",
       "      <td>Judo</td>\n",
       "      <td>Judo Men's Extra-Lightweight</td>\n",
       "      <td>No Medal</td>\n",
       "      <td>China</td>\n",
       "      <td>NaN</td>\n",
       "    </tr>\n",
       "    <tr>\n",
       "      <th>2</th>\n",
       "      <td>602</td>\n",
       "      <td>Abudoureheman</td>\n",
       "      <td>M</td>\n",
       "      <td>22</td>\n",
       "      <td>182.0</td>\n",
       "      <td>75.0</td>\n",
       "      <td>China</td>\n",
       "      <td>CHN</td>\n",
       "      <td>2000 Summer</td>\n",
       "      <td>2000</td>\n",
       "      <td>Summer</td>\n",
       "      <td>Sydney</td>\n",
       "      <td>Boxing</td>\n",
       "      <td>Boxing Men's Middleweight</td>\n",
       "      <td>No Medal</td>\n",
       "      <td>China</td>\n",
       "      <td>NaN</td>\n",
       "    </tr>\n",
       "    <tr>\n",
       "      <th>3</th>\n",
       "      <td>1463</td>\n",
       "      <td>Ai Linuer</td>\n",
       "      <td>M</td>\n",
       "      <td>25</td>\n",
       "      <td>160.0</td>\n",
       "      <td>62.0</td>\n",
       "      <td>China</td>\n",
       "      <td>CHN</td>\n",
       "      <td>2004 Summer</td>\n",
       "      <td>2004</td>\n",
       "      <td>Summer</td>\n",
       "      <td>Athina</td>\n",
       "      <td>Wrestling</td>\n",
       "      <td>Wrestling Men's Lightweight, Greco-Roman</td>\n",
       "      <td>No Medal</td>\n",
       "      <td>China</td>\n",
       "      <td>NaN</td>\n",
       "    </tr>\n",
       "    <tr>\n",
       "      <th>4</th>\n",
       "      <td>1464</td>\n",
       "      <td>Ai Yanhan</td>\n",
       "      <td>F</td>\n",
       "      <td>14</td>\n",
       "      <td>168.0</td>\n",
       "      <td>54.0</td>\n",
       "      <td>China</td>\n",
       "      <td>CHN</td>\n",
       "      <td>2016 Summer</td>\n",
       "      <td>2016</td>\n",
       "      <td>Summer</td>\n",
       "      <td>Rio de Janeiro</td>\n",
       "      <td>Swimming</td>\n",
       "      <td>Swimming Women's 200 metres Freestyle</td>\n",
       "      <td>No Medal</td>\n",
       "      <td>China</td>\n",
       "      <td>NaN</td>\n",
       "    </tr>\n",
       "  </tbody>\n",
       "</table>\n",
       "</div>"
      ],
      "text/plain": [
       "     ID           Name Sex  Age  Height  Weight   Team  NOC        Games  \\\n",
       "0     1      A Dijiang   M   24   180.0    80.0  China  CHN  1992 Summer   \n",
       "1     2       A Lamusi   M   23   170.0    60.0  China  CHN  2012 Summer   \n",
       "2   602  Abudoureheman   M   22   182.0    75.0  China  CHN  2000 Summer   \n",
       "3  1463      Ai Linuer   M   25   160.0    62.0  China  CHN  2004 Summer   \n",
       "4  1464      Ai Yanhan   F   14   168.0    54.0  China  CHN  2016 Summer   \n",
       "\n",
       "   Year  Season            City       Sport  \\\n",
       "0  1992  Summer       Barcelona  Basketball   \n",
       "1  2012  Summer          London        Judo   \n",
       "2  2000  Summer          Sydney      Boxing   \n",
       "3  2004  Summer          Athina   Wrestling   \n",
       "4  2016  Summer  Rio de Janeiro    Swimming   \n",
       "\n",
       "                                      Event     Medal region notes  \n",
       "0               Basketball Men's Basketball  No Medal  China   NaN  \n",
       "1              Judo Men's Extra-Lightweight  No Medal  China   NaN  \n",
       "2                 Boxing Men's Middleweight  No Medal  China   NaN  \n",
       "3  Wrestling Men's Lightweight, Greco-Roman  No Medal  China   NaN  \n",
       "4     Swimming Women's 200 metres Freestyle  No Medal  China   NaN  "
      ]
     },
     "execution_count": 20,
     "metadata": {},
     "output_type": "execute_result"
    }
   ],
   "source": [
    "df.head()"
   ]
  },
  {
   "cell_type": "markdown",
   "metadata": {},
   "source": [
    "It is observed that when converting `Year` to datetime format, it returned a time, day, month and year. This data was defaulting to 00:00 on the first of January for each year. As this data was incorrect, an attempt was made only use the year, but in doing this Python defaulted to listing this data type an integer. As this column can be utilised as an integer to perform data analysis, this column was left as an integer."
   ]
  },
  {
   "cell_type": "markdown",
   "metadata": {},
   "source": [
    "#### Handling Duplicates"
   ]
  },
  {
   "cell_type": "code",
   "execution_count": 21,
   "metadata": {},
   "outputs": [
    {
     "data": {
      "text/html": [
       "<div>\n",
       "<style scoped>\n",
       "    .dataframe tbody tr th:only-of-type {\n",
       "        vertical-align: middle;\n",
       "    }\n",
       "\n",
       "    .dataframe tbody tr th {\n",
       "        vertical-align: top;\n",
       "    }\n",
       "\n",
       "    .dataframe thead th {\n",
       "        text-align: right;\n",
       "    }\n",
       "</style>\n",
       "<table border=\"1\" class=\"dataframe\">\n",
       "  <thead>\n",
       "    <tr style=\"text-align: right;\">\n",
       "      <th></th>\n",
       "      <th>ID</th>\n",
       "      <th>Name</th>\n",
       "      <th>Sex</th>\n",
       "      <th>Age</th>\n",
       "      <th>Height</th>\n",
       "      <th>Weight</th>\n",
       "      <th>Team</th>\n",
       "      <th>NOC</th>\n",
       "      <th>Games</th>\n",
       "      <th>Year</th>\n",
       "      <th>Season</th>\n",
       "      <th>City</th>\n",
       "      <th>Sport</th>\n",
       "      <th>Event</th>\n",
       "      <th>Medal</th>\n",
       "      <th>region</th>\n",
       "      <th>notes</th>\n",
       "    </tr>\n",
       "  </thead>\n",
       "  <tbody>\n",
       "    <tr>\n",
       "      <th>5478</th>\n",
       "      <td>12948</td>\n",
       "      <td>Thyra Valborg Boldsen</td>\n",
       "      <td>F</td>\n",
       "      <td>48</td>\n",
       "      <td>160.0000</td>\n",
       "      <td>59.849576</td>\n",
       "      <td>Denmark</td>\n",
       "      <td>DEN</td>\n",
       "      <td>1932 Summer</td>\n",
       "      <td>1932</td>\n",
       "      <td>Summer</td>\n",
       "      <td>Los Angeles</td>\n",
       "      <td>Art Competitions</td>\n",
       "      <td>Art Competitions Mixed Sculpturing, Unknown Event</td>\n",
       "      <td>No Medal</td>\n",
       "      <td>Denmark</td>\n",
       "      <td>NaN</td>\n",
       "    </tr>\n",
       "    <tr>\n",
       "      <th>5540</th>\n",
       "      <td>18252</td>\n",
       "      <td>Anne Marie Carl-Nielsen (Brodersen-)</td>\n",
       "      <td>F</td>\n",
       "      <td>69</td>\n",
       "      <td>160.0000</td>\n",
       "      <td>59.849576</td>\n",
       "      <td>Denmark</td>\n",
       "      <td>DEN</td>\n",
       "      <td>1932 Summer</td>\n",
       "      <td>1932</td>\n",
       "      <td>Summer</td>\n",
       "      <td>Los Angeles</td>\n",
       "      <td>Art Competitions</td>\n",
       "      <td>Art Competitions Mixed Sculpturing, Unknown Event</td>\n",
       "      <td>No Medal</td>\n",
       "      <td>Denmark</td>\n",
       "      <td>NaN</td>\n",
       "    </tr>\n",
       "    <tr>\n",
       "      <th>5541</th>\n",
       "      <td>18252</td>\n",
       "      <td>Anne Marie Carl-Nielsen (Brodersen-)</td>\n",
       "      <td>F</td>\n",
       "      <td>69</td>\n",
       "      <td>160.0000</td>\n",
       "      <td>59.849576</td>\n",
       "      <td>Denmark</td>\n",
       "      <td>DEN</td>\n",
       "      <td>1932 Summer</td>\n",
       "      <td>1932</td>\n",
       "      <td>Summer</td>\n",
       "      <td>Los Angeles</td>\n",
       "      <td>Art Competitions</td>\n",
       "      <td>Art Competitions Mixed Sculpturing, Unknown Event</td>\n",
       "      <td>No Medal</td>\n",
       "      <td>Denmark</td>\n",
       "      <td>NaN</td>\n",
       "    </tr>\n",
       "    <tr>\n",
       "      <th>5542</th>\n",
       "      <td>18252</td>\n",
       "      <td>Anne Marie Carl-Nielsen (Brodersen-)</td>\n",
       "      <td>F</td>\n",
       "      <td>69</td>\n",
       "      <td>160.0000</td>\n",
       "      <td>59.849576</td>\n",
       "      <td>Denmark</td>\n",
       "      <td>DEN</td>\n",
       "      <td>1932 Summer</td>\n",
       "      <td>1932</td>\n",
       "      <td>Summer</td>\n",
       "      <td>Los Angeles</td>\n",
       "      <td>Art Competitions</td>\n",
       "      <td>Art Competitions Mixed Sculpturing, Unknown Event</td>\n",
       "      <td>No Medal</td>\n",
       "      <td>Denmark</td>\n",
       "      <td>NaN</td>\n",
       "    </tr>\n",
       "    <tr>\n",
       "      <th>5543</th>\n",
       "      <td>18252</td>\n",
       "      <td>Anne Marie Carl-Nielsen (Brodersen-)</td>\n",
       "      <td>F</td>\n",
       "      <td>69</td>\n",
       "      <td>160.0000</td>\n",
       "      <td>59.849576</td>\n",
       "      <td>Denmark</td>\n",
       "      <td>DEN</td>\n",
       "      <td>1932 Summer</td>\n",
       "      <td>1932</td>\n",
       "      <td>Summer</td>\n",
       "      <td>Los Angeles</td>\n",
       "      <td>Art Competitions</td>\n",
       "      <td>Art Competitions Mixed Sculpturing, Unknown Event</td>\n",
       "      <td>No Medal</td>\n",
       "      <td>Denmark</td>\n",
       "      <td>NaN</td>\n",
       "    </tr>\n",
       "    <tr>\n",
       "      <th>...</th>\n",
       "      <td>...</td>\n",
       "      <td>...</td>\n",
       "      <td>...</td>\n",
       "      <td>...</td>\n",
       "      <td>...</td>\n",
       "      <td>...</td>\n",
       "      <td>...</td>\n",
       "      <td>...</td>\n",
       "      <td>...</td>\n",
       "      <td>...</td>\n",
       "      <td>...</td>\n",
       "      <td>...</td>\n",
       "      <td>...</td>\n",
       "      <td>...</td>\n",
       "      <td>...</td>\n",
       "      <td>...</td>\n",
       "      <td>...</td>\n",
       "    </tr>\n",
       "    <tr>\n",
       "      <th>249409</th>\n",
       "      <td>127869</td>\n",
       "      <td>Adolf Wagner von der Mhl</td>\n",
       "      <td>M</td>\n",
       "      <td>44</td>\n",
       "      <td>176.0000</td>\n",
       "      <td>75.000000</td>\n",
       "      <td>Austria</td>\n",
       "      <td>AUT</td>\n",
       "      <td>1928 Summer</td>\n",
       "      <td>1928</td>\n",
       "      <td>Summer</td>\n",
       "      <td>Amsterdam</td>\n",
       "      <td>Art Competitions</td>\n",
       "      <td>Art Competitions Mixed Sculpturing, Statues</td>\n",
       "      <td>No Medal</td>\n",
       "      <td>Austria</td>\n",
       "      <td>NaN</td>\n",
       "    </tr>\n",
       "    <tr>\n",
       "      <th>259208</th>\n",
       "      <td>23363</td>\n",
       "      <td>Frane Cota</td>\n",
       "      <td>M</td>\n",
       "      <td>25</td>\n",
       "      <td>173.3928</td>\n",
       "      <td>74.851760</td>\n",
       "      <td>Yugoslavia</td>\n",
       "      <td>YUG</td>\n",
       "      <td>1924 Summer</td>\n",
       "      <td>1924</td>\n",
       "      <td>Summer</td>\n",
       "      <td>Paris</td>\n",
       "      <td>Art Competitions</td>\n",
       "      <td>Art Competitions Mixed Sculpturing</td>\n",
       "      <td>No Medal</td>\n",
       "      <td>Serbia</td>\n",
       "      <td>Yugoslavia</td>\n",
       "    </tr>\n",
       "    <tr>\n",
       "      <th>259986</th>\n",
       "      <td>64240</td>\n",
       "      <td>F. Kroly</td>\n",
       "      <td>M</td>\n",
       "      <td>36</td>\n",
       "      <td>173.3928</td>\n",
       "      <td>74.851760</td>\n",
       "      <td>Yugoslavia</td>\n",
       "      <td>YUG</td>\n",
       "      <td>1924 Summer</td>\n",
       "      <td>1924</td>\n",
       "      <td>Summer</td>\n",
       "      <td>Paris</td>\n",
       "      <td>Art Competitions</td>\n",
       "      <td>Art Competitions Mixed Sculpturing</td>\n",
       "      <td>No Medal</td>\n",
       "      <td>Serbia</td>\n",
       "      <td>Yugoslavia</td>\n",
       "    </tr>\n",
       "    <tr>\n",
       "      <th>260363</th>\n",
       "      <td>85115</td>\n",
       "      <td>Franjo Neidhardt</td>\n",
       "      <td>M</td>\n",
       "      <td>35</td>\n",
       "      <td>173.3928</td>\n",
       "      <td>74.851760</td>\n",
       "      <td>Yugoslavia</td>\n",
       "      <td>YUG</td>\n",
       "      <td>1948 Summer</td>\n",
       "      <td>1948</td>\n",
       "      <td>Summer</td>\n",
       "      <td>London</td>\n",
       "      <td>Art Competitions</td>\n",
       "      <td>Art Competitions Mixed Architecture, Architect...</td>\n",
       "      <td>No Medal</td>\n",
       "      <td>Serbia</td>\n",
       "      <td>Yugoslavia</td>\n",
       "    </tr>\n",
       "    <tr>\n",
       "      <th>261198</th>\n",
       "      <td>122725</td>\n",
       "      <td>Vladimir Turina</td>\n",
       "      <td>M</td>\n",
       "      <td>35</td>\n",
       "      <td>173.3928</td>\n",
       "      <td>74.851760</td>\n",
       "      <td>Yugoslavia</td>\n",
       "      <td>YUG</td>\n",
       "      <td>1948 Summer</td>\n",
       "      <td>1948</td>\n",
       "      <td>Summer</td>\n",
       "      <td>London</td>\n",
       "      <td>Art Competitions</td>\n",
       "      <td>Art Competitions Mixed Architecture, Architect...</td>\n",
       "      <td>No Medal</td>\n",
       "      <td>Serbia</td>\n",
       "      <td>Yugoslavia</td>\n",
       "    </tr>\n",
       "  </tbody>\n",
       "</table>\n",
       "<p>1385 rows × 17 columns</p>\n",
       "</div>"
      ],
      "text/plain": [
       "            ID                                  Name Sex  Age    Height  \\\n",
       "5478     12948                 Thyra Valborg Boldsen   F   48  160.0000   \n",
       "5540     18252  Anne Marie Carl-Nielsen (Brodersen-)   F   69  160.0000   \n",
       "5541     18252  Anne Marie Carl-Nielsen (Brodersen-)   F   69  160.0000   \n",
       "5542     18252  Anne Marie Carl-Nielsen (Brodersen-)   F   69  160.0000   \n",
       "5543     18252  Anne Marie Carl-Nielsen (Brodersen-)   F   69  160.0000   \n",
       "...        ...                                   ...  ..  ...       ...   \n",
       "249409  127869              Adolf Wagner von der Mhl   M   44  176.0000   \n",
       "259208   23363                            Frane Cota   M   25  173.3928   \n",
       "259986   64240                              F. Kroly   M   36  173.3928   \n",
       "260363   85115                      Franjo Neidhardt   M   35  173.3928   \n",
       "261198  122725                       Vladimir Turina   M   35  173.3928   \n",
       "\n",
       "           Weight        Team  NOC        Games  Year  Season         City  \\\n",
       "5478    59.849576     Denmark  DEN  1932 Summer  1932  Summer  Los Angeles   \n",
       "5540    59.849576     Denmark  DEN  1932 Summer  1932  Summer  Los Angeles   \n",
       "5541    59.849576     Denmark  DEN  1932 Summer  1932  Summer  Los Angeles   \n",
       "5542    59.849576     Denmark  DEN  1932 Summer  1932  Summer  Los Angeles   \n",
       "5543    59.849576     Denmark  DEN  1932 Summer  1932  Summer  Los Angeles   \n",
       "...           ...         ...  ...          ...   ...     ...          ...   \n",
       "249409  75.000000     Austria  AUT  1928 Summer  1928  Summer    Amsterdam   \n",
       "259208  74.851760  Yugoslavia  YUG  1924 Summer  1924  Summer        Paris   \n",
       "259986  74.851760  Yugoslavia  YUG  1924 Summer  1924  Summer        Paris   \n",
       "260363  74.851760  Yugoslavia  YUG  1948 Summer  1948  Summer       London   \n",
       "261198  74.851760  Yugoslavia  YUG  1948 Summer  1948  Summer       London   \n",
       "\n",
       "                   Sport                                              Event  \\\n",
       "5478    Art Competitions  Art Competitions Mixed Sculpturing, Unknown Event   \n",
       "5540    Art Competitions  Art Competitions Mixed Sculpturing, Unknown Event   \n",
       "5541    Art Competitions  Art Competitions Mixed Sculpturing, Unknown Event   \n",
       "5542    Art Competitions  Art Competitions Mixed Sculpturing, Unknown Event   \n",
       "5543    Art Competitions  Art Competitions Mixed Sculpturing, Unknown Event   \n",
       "...                  ...                                                ...   \n",
       "249409  Art Competitions        Art Competitions Mixed Sculpturing, Statues   \n",
       "259208  Art Competitions                 Art Competitions Mixed Sculpturing   \n",
       "259986  Art Competitions                 Art Competitions Mixed Sculpturing   \n",
       "260363  Art Competitions  Art Competitions Mixed Architecture, Architect...   \n",
       "261198  Art Competitions  Art Competitions Mixed Architecture, Architect...   \n",
       "\n",
       "           Medal   region       notes  \n",
       "5478    No Medal  Denmark         NaN  \n",
       "5540    No Medal  Denmark         NaN  \n",
       "5541    No Medal  Denmark         NaN  \n",
       "5542    No Medal  Denmark         NaN  \n",
       "5543    No Medal  Denmark         NaN  \n",
       "...          ...      ...         ...  \n",
       "249409  No Medal  Austria         NaN  \n",
       "259208  No Medal   Serbia  Yugoslavia  \n",
       "259986  No Medal   Serbia  Yugoslavia  \n",
       "260363  No Medal   Serbia  Yugoslavia  \n",
       "261198  No Medal   Serbia  Yugoslavia  \n",
       "\n",
       "[1385 rows x 17 columns]"
      ]
     },
     "execution_count": 21,
     "metadata": {},
     "output_type": "execute_result"
    }
   ],
   "source": [
    "df[df.duplicated()] # Find all duplicated rows"
   ]
  },
  {
   "cell_type": "code",
   "execution_count": 22,
   "metadata": {},
   "outputs": [],
   "source": [
    "df = df.drop_duplicates() # Drop all duplicated rows"
   ]
  },
  {
   "cell_type": "code",
   "execution_count": 23,
   "metadata": {
    "scrolled": false
   },
   "outputs": [
    {
     "data": {
      "text/plain": [
       "0"
      ]
     },
     "execution_count": 23,
     "metadata": {},
     "output_type": "execute_result"
    }
   ],
   "source": [
    "df.duplicated().sum() # Show the sum of duplicated rows"
   ]
  },
  {
   "cell_type": "markdown",
   "metadata": {},
   "source": [
    "#### Final Touches"
   ]
  },
  {
   "cell_type": "markdown",
   "metadata": {},
   "source": [
    "Changing the abbreviations `'M'` and `'F'` to `'Male'` and `'Female'`."
   ]
  },
  {
   "cell_type": "code",
   "execution_count": 24,
   "metadata": {},
   "outputs": [],
   "source": [
    "df.loc[df['Sex'] == 'M', 'Sex'] = 'Male' # Where Sex = \"M\", replace with \"Male\"\n",
    "df.loc[df['Sex'] == 'F', 'Sex'] = 'Female' # Where Sex = \"F\", replace with \"Female\""
   ]
  },
  {
   "cell_type": "markdown",
   "metadata": {},
   "source": [
    "Capitalising the first letter of the title for the region and notes columns."
   ]
  },
  {
   "cell_type": "code",
   "execution_count": 25,
   "metadata": {},
   "outputs": [
    {
     "data": {
      "text/html": [
       "<div>\n",
       "<style scoped>\n",
       "    .dataframe tbody tr th:only-of-type {\n",
       "        vertical-align: middle;\n",
       "    }\n",
       "\n",
       "    .dataframe tbody tr th {\n",
       "        vertical-align: top;\n",
       "    }\n",
       "\n",
       "    .dataframe thead th {\n",
       "        text-align: right;\n",
       "    }\n",
       "</style>\n",
       "<table border=\"1\" class=\"dataframe\">\n",
       "  <thead>\n",
       "    <tr style=\"text-align: right;\">\n",
       "      <th></th>\n",
       "      <th>ID</th>\n",
       "      <th>Name</th>\n",
       "      <th>Sex</th>\n",
       "      <th>Age</th>\n",
       "      <th>Height</th>\n",
       "      <th>Weight</th>\n",
       "      <th>Team</th>\n",
       "      <th>NOC</th>\n",
       "      <th>Games</th>\n",
       "      <th>Year</th>\n",
       "      <th>Season</th>\n",
       "      <th>City</th>\n",
       "      <th>Sport</th>\n",
       "      <th>Event</th>\n",
       "      <th>Medal</th>\n",
       "      <th>Region</th>\n",
       "      <th>Notes</th>\n",
       "    </tr>\n",
       "  </thead>\n",
       "  <tbody>\n",
       "    <tr>\n",
       "      <th>0</th>\n",
       "      <td>1</td>\n",
       "      <td>A Dijiang</td>\n",
       "      <td>Male</td>\n",
       "      <td>24</td>\n",
       "      <td>180.0</td>\n",
       "      <td>80.0</td>\n",
       "      <td>China</td>\n",
       "      <td>CHN</td>\n",
       "      <td>1992 Summer</td>\n",
       "      <td>1992</td>\n",
       "      <td>Summer</td>\n",
       "      <td>Barcelona</td>\n",
       "      <td>Basketball</td>\n",
       "      <td>Basketball Men's Basketball</td>\n",
       "      <td>No Medal</td>\n",
       "      <td>China</td>\n",
       "      <td>NaN</td>\n",
       "    </tr>\n",
       "    <tr>\n",
       "      <th>1</th>\n",
       "      <td>2</td>\n",
       "      <td>A Lamusi</td>\n",
       "      <td>Male</td>\n",
       "      <td>23</td>\n",
       "      <td>170.0</td>\n",
       "      <td>60.0</td>\n",
       "      <td>China</td>\n",
       "      <td>CHN</td>\n",
       "      <td>2012 Summer</td>\n",
       "      <td>2012</td>\n",
       "      <td>Summer</td>\n",
       "      <td>London</td>\n",
       "      <td>Judo</td>\n",
       "      <td>Judo Men's Extra-Lightweight</td>\n",
       "      <td>No Medal</td>\n",
       "      <td>China</td>\n",
       "      <td>NaN</td>\n",
       "    </tr>\n",
       "    <tr>\n",
       "      <th>2</th>\n",
       "      <td>602</td>\n",
       "      <td>Abudoureheman</td>\n",
       "      <td>Male</td>\n",
       "      <td>22</td>\n",
       "      <td>182.0</td>\n",
       "      <td>75.0</td>\n",
       "      <td>China</td>\n",
       "      <td>CHN</td>\n",
       "      <td>2000 Summer</td>\n",
       "      <td>2000</td>\n",
       "      <td>Summer</td>\n",
       "      <td>Sydney</td>\n",
       "      <td>Boxing</td>\n",
       "      <td>Boxing Men's Middleweight</td>\n",
       "      <td>No Medal</td>\n",
       "      <td>China</td>\n",
       "      <td>NaN</td>\n",
       "    </tr>\n",
       "    <tr>\n",
       "      <th>3</th>\n",
       "      <td>1463</td>\n",
       "      <td>Ai Linuer</td>\n",
       "      <td>Male</td>\n",
       "      <td>25</td>\n",
       "      <td>160.0</td>\n",
       "      <td>62.0</td>\n",
       "      <td>China</td>\n",
       "      <td>CHN</td>\n",
       "      <td>2004 Summer</td>\n",
       "      <td>2004</td>\n",
       "      <td>Summer</td>\n",
       "      <td>Athina</td>\n",
       "      <td>Wrestling</td>\n",
       "      <td>Wrestling Men's Lightweight, Greco-Roman</td>\n",
       "      <td>No Medal</td>\n",
       "      <td>China</td>\n",
       "      <td>NaN</td>\n",
       "    </tr>\n",
       "    <tr>\n",
       "      <th>4</th>\n",
       "      <td>1464</td>\n",
       "      <td>Ai Yanhan</td>\n",
       "      <td>Female</td>\n",
       "      <td>14</td>\n",
       "      <td>168.0</td>\n",
       "      <td>54.0</td>\n",
       "      <td>China</td>\n",
       "      <td>CHN</td>\n",
       "      <td>2016 Summer</td>\n",
       "      <td>2016</td>\n",
       "      <td>Summer</td>\n",
       "      <td>Rio de Janeiro</td>\n",
       "      <td>Swimming</td>\n",
       "      <td>Swimming Women's 200 metres Freestyle</td>\n",
       "      <td>No Medal</td>\n",
       "      <td>China</td>\n",
       "      <td>NaN</td>\n",
       "    </tr>\n",
       "  </tbody>\n",
       "</table>\n",
       "</div>"
      ],
      "text/plain": [
       "     ID           Name     Sex  Age  Height  Weight   Team  NOC        Games  \\\n",
       "0     1      A Dijiang    Male   24   180.0    80.0  China  CHN  1992 Summer   \n",
       "1     2       A Lamusi    Male   23   170.0    60.0  China  CHN  2012 Summer   \n",
       "2   602  Abudoureheman    Male   22   182.0    75.0  China  CHN  2000 Summer   \n",
       "3  1463      Ai Linuer    Male   25   160.0    62.0  China  CHN  2004 Summer   \n",
       "4  1464      Ai Yanhan  Female   14   168.0    54.0  China  CHN  2016 Summer   \n",
       "\n",
       "   Year  Season            City       Sport  \\\n",
       "0  1992  Summer       Barcelona  Basketball   \n",
       "1  2012  Summer          London        Judo   \n",
       "2  2000  Summer          Sydney      Boxing   \n",
       "3  2004  Summer          Athina   Wrestling   \n",
       "4  2016  Summer  Rio de Janeiro    Swimming   \n",
       "\n",
       "                                      Event     Medal Region Notes  \n",
       "0               Basketball Men's Basketball  No Medal  China   NaN  \n",
       "1              Judo Men's Extra-Lightweight  No Medal  China   NaN  \n",
       "2                 Boxing Men's Middleweight  No Medal  China   NaN  \n",
       "3  Wrestling Men's Lightweight, Greco-Roman  No Medal  China   NaN  \n",
       "4     Swimming Women's 200 metres Freestyle  No Medal  China   NaN  "
      ]
     },
     "execution_count": 25,
     "metadata": {},
     "output_type": "execute_result"
    }
   ],
   "source": [
    "df = df.rename(columns={'region': 'Region', 'notes': 'Notes'})\n",
    "df.head()"
   ]
  },
  {
   "cell_type": "markdown",
   "metadata": {},
   "source": [
    "### Data wrangling"
   ]
  },
  {
   "cell_type": "markdown",
   "metadata": {},
   "source": [
    "Create a new column titled `'Age Group'`."
   ]
  },
  {
   "cell_type": "code",
   "execution_count": 26,
   "metadata": {
    "scrolled": false
   },
   "outputs": [
    {
     "data": {
      "text/html": [
       "<div>\n",
       "<style scoped>\n",
       "    .dataframe tbody tr th:only-of-type {\n",
       "        vertical-align: middle;\n",
       "    }\n",
       "\n",
       "    .dataframe tbody tr th {\n",
       "        vertical-align: top;\n",
       "    }\n",
       "\n",
       "    .dataframe thead th {\n",
       "        text-align: right;\n",
       "    }\n",
       "</style>\n",
       "<table border=\"1\" class=\"dataframe\">\n",
       "  <thead>\n",
       "    <tr style=\"text-align: right;\">\n",
       "      <th></th>\n",
       "      <th>ID</th>\n",
       "      <th>Name</th>\n",
       "      <th>Sex</th>\n",
       "      <th>Age</th>\n",
       "      <th>Height</th>\n",
       "      <th>Weight</th>\n",
       "      <th>Team</th>\n",
       "      <th>NOC</th>\n",
       "      <th>Games</th>\n",
       "      <th>Year</th>\n",
       "      <th>Season</th>\n",
       "      <th>City</th>\n",
       "      <th>Sport</th>\n",
       "      <th>Event</th>\n",
       "      <th>Medal</th>\n",
       "      <th>Region</th>\n",
       "      <th>Notes</th>\n",
       "      <th>Age Group</th>\n",
       "    </tr>\n",
       "  </thead>\n",
       "  <tbody>\n",
       "    <tr>\n",
       "      <th>0</th>\n",
       "      <td>1</td>\n",
       "      <td>A Dijiang</td>\n",
       "      <td>Male</td>\n",
       "      <td>24</td>\n",
       "      <td>180.0</td>\n",
       "      <td>80.0</td>\n",
       "      <td>China</td>\n",
       "      <td>CHN</td>\n",
       "      <td>1992 Summer</td>\n",
       "      <td>1992</td>\n",
       "      <td>Summer</td>\n",
       "      <td>Barcelona</td>\n",
       "      <td>Basketball</td>\n",
       "      <td>Basketball Men's Basketball</td>\n",
       "      <td>No Medal</td>\n",
       "      <td>China</td>\n",
       "      <td>NaN</td>\n",
       "      <td>19-25</td>\n",
       "    </tr>\n",
       "    <tr>\n",
       "      <th>1</th>\n",
       "      <td>2</td>\n",
       "      <td>A Lamusi</td>\n",
       "      <td>Male</td>\n",
       "      <td>23</td>\n",
       "      <td>170.0</td>\n",
       "      <td>60.0</td>\n",
       "      <td>China</td>\n",
       "      <td>CHN</td>\n",
       "      <td>2012 Summer</td>\n",
       "      <td>2012</td>\n",
       "      <td>Summer</td>\n",
       "      <td>London</td>\n",
       "      <td>Judo</td>\n",
       "      <td>Judo Men's Extra-Lightweight</td>\n",
       "      <td>No Medal</td>\n",
       "      <td>China</td>\n",
       "      <td>NaN</td>\n",
       "      <td>19-25</td>\n",
       "    </tr>\n",
       "    <tr>\n",
       "      <th>2</th>\n",
       "      <td>602</td>\n",
       "      <td>Abudoureheman</td>\n",
       "      <td>Male</td>\n",
       "      <td>22</td>\n",
       "      <td>182.0</td>\n",
       "      <td>75.0</td>\n",
       "      <td>China</td>\n",
       "      <td>CHN</td>\n",
       "      <td>2000 Summer</td>\n",
       "      <td>2000</td>\n",
       "      <td>Summer</td>\n",
       "      <td>Sydney</td>\n",
       "      <td>Boxing</td>\n",
       "      <td>Boxing Men's Middleweight</td>\n",
       "      <td>No Medal</td>\n",
       "      <td>China</td>\n",
       "      <td>NaN</td>\n",
       "      <td>19-25</td>\n",
       "    </tr>\n",
       "    <tr>\n",
       "      <th>3</th>\n",
       "      <td>1463</td>\n",
       "      <td>Ai Linuer</td>\n",
       "      <td>Male</td>\n",
       "      <td>25</td>\n",
       "      <td>160.0</td>\n",
       "      <td>62.0</td>\n",
       "      <td>China</td>\n",
       "      <td>CHN</td>\n",
       "      <td>2004 Summer</td>\n",
       "      <td>2004</td>\n",
       "      <td>Summer</td>\n",
       "      <td>Athina</td>\n",
       "      <td>Wrestling</td>\n",
       "      <td>Wrestling Men's Lightweight, Greco-Roman</td>\n",
       "      <td>No Medal</td>\n",
       "      <td>China</td>\n",
       "      <td>NaN</td>\n",
       "      <td>19-25</td>\n",
       "    </tr>\n",
       "    <tr>\n",
       "      <th>4</th>\n",
       "      <td>1464</td>\n",
       "      <td>Ai Yanhan</td>\n",
       "      <td>Female</td>\n",
       "      <td>14</td>\n",
       "      <td>168.0</td>\n",
       "      <td>54.0</td>\n",
       "      <td>China</td>\n",
       "      <td>CHN</td>\n",
       "      <td>2016 Summer</td>\n",
       "      <td>2016</td>\n",
       "      <td>Summer</td>\n",
       "      <td>Rio de Janeiro</td>\n",
       "      <td>Swimming</td>\n",
       "      <td>Swimming Women's 200 metres Freestyle</td>\n",
       "      <td>No Medal</td>\n",
       "      <td>China</td>\n",
       "      <td>NaN</td>\n",
       "      <td>0-18</td>\n",
       "    </tr>\n",
       "  </tbody>\n",
       "</table>\n",
       "</div>"
      ],
      "text/plain": [
       "     ID           Name     Sex  Age  Height  Weight   Team  NOC        Games  \\\n",
       "0     1      A Dijiang    Male   24   180.0    80.0  China  CHN  1992 Summer   \n",
       "1     2       A Lamusi    Male   23   170.0    60.0  China  CHN  2012 Summer   \n",
       "2   602  Abudoureheman    Male   22   182.0    75.0  China  CHN  2000 Summer   \n",
       "3  1463      Ai Linuer    Male   25   160.0    62.0  China  CHN  2004 Summer   \n",
       "4  1464      Ai Yanhan  Female   14   168.0    54.0  China  CHN  2016 Summer   \n",
       "\n",
       "   Year  Season            City       Sport  \\\n",
       "0  1992  Summer       Barcelona  Basketball   \n",
       "1  2012  Summer          London        Judo   \n",
       "2  2000  Summer          Sydney      Boxing   \n",
       "3  2004  Summer          Athina   Wrestling   \n",
       "4  2016  Summer  Rio de Janeiro    Swimming   \n",
       "\n",
       "                                      Event     Medal Region Notes Age Group  \n",
       "0               Basketball Men's Basketball  No Medal  China   NaN     19-25  \n",
       "1              Judo Men's Extra-Lightweight  No Medal  China   NaN     19-25  \n",
       "2                 Boxing Men's Middleweight  No Medal  China   NaN     19-25  \n",
       "3  Wrestling Men's Lightweight, Greco-Roman  No Medal  China   NaN     19-25  \n",
       "4     Swimming Women's 200 metres Freestyle  No Medal  China   NaN      0-18  "
      ]
     },
     "execution_count": 26,
     "metadata": {},
     "output_type": "execute_result"
    }
   ],
   "source": [
    "bins = [0, 18, 25, 35, float('inf')] \n",
    "labels = ['0-18', '19-25', '26-35', '36+']\n",
    "\n",
    "df['Age Group'] = pd.cut(df['Age'], bins=bins, labels=labels, right=True)\n",
    "\n",
    "df.head()"
   ]
  },
  {
   "cell_type": "markdown",
   "metadata": {},
   "source": [
    "Create a new column which merges data from the `Region` and `NOC` columns seperated by a '-'. The new column should be named `Country`."
   ]
  },
  {
   "cell_type": "code",
   "execution_count": 27,
   "metadata": {
    "scrolled": false
   },
   "outputs": [
    {
     "data": {
      "text/html": [
       "<div>\n",
       "<style scoped>\n",
       "    .dataframe tbody tr th:only-of-type {\n",
       "        vertical-align: middle;\n",
       "    }\n",
       "\n",
       "    .dataframe tbody tr th {\n",
       "        vertical-align: top;\n",
       "    }\n",
       "\n",
       "    .dataframe thead th {\n",
       "        text-align: right;\n",
       "    }\n",
       "</style>\n",
       "<table border=\"1\" class=\"dataframe\">\n",
       "  <thead>\n",
       "    <tr style=\"text-align: right;\">\n",
       "      <th></th>\n",
       "      <th>ID</th>\n",
       "      <th>Name</th>\n",
       "      <th>Sex</th>\n",
       "      <th>Age</th>\n",
       "      <th>Height</th>\n",
       "      <th>Weight</th>\n",
       "      <th>Team</th>\n",
       "      <th>NOC</th>\n",
       "      <th>Games</th>\n",
       "      <th>Year</th>\n",
       "      <th>Season</th>\n",
       "      <th>City</th>\n",
       "      <th>Sport</th>\n",
       "      <th>Event</th>\n",
       "      <th>Medal</th>\n",
       "      <th>Region</th>\n",
       "      <th>Notes</th>\n",
       "      <th>Age Group</th>\n",
       "      <th>Country</th>\n",
       "    </tr>\n",
       "  </thead>\n",
       "  <tbody>\n",
       "    <tr>\n",
       "      <th>0</th>\n",
       "      <td>1</td>\n",
       "      <td>A Dijiang</td>\n",
       "      <td>Male</td>\n",
       "      <td>24</td>\n",
       "      <td>180.0</td>\n",
       "      <td>80.0</td>\n",
       "      <td>China</td>\n",
       "      <td>CHN</td>\n",
       "      <td>1992 Summer</td>\n",
       "      <td>1992</td>\n",
       "      <td>Summer</td>\n",
       "      <td>Barcelona</td>\n",
       "      <td>Basketball</td>\n",
       "      <td>Basketball Men's Basketball</td>\n",
       "      <td>No Medal</td>\n",
       "      <td>China</td>\n",
       "      <td>NaN</td>\n",
       "      <td>19-25</td>\n",
       "      <td>China - CHN</td>\n",
       "    </tr>\n",
       "    <tr>\n",
       "      <th>1</th>\n",
       "      <td>2</td>\n",
       "      <td>A Lamusi</td>\n",
       "      <td>Male</td>\n",
       "      <td>23</td>\n",
       "      <td>170.0</td>\n",
       "      <td>60.0</td>\n",
       "      <td>China</td>\n",
       "      <td>CHN</td>\n",
       "      <td>2012 Summer</td>\n",
       "      <td>2012</td>\n",
       "      <td>Summer</td>\n",
       "      <td>London</td>\n",
       "      <td>Judo</td>\n",
       "      <td>Judo Men's Extra-Lightweight</td>\n",
       "      <td>No Medal</td>\n",
       "      <td>China</td>\n",
       "      <td>NaN</td>\n",
       "      <td>19-25</td>\n",
       "      <td>China - CHN</td>\n",
       "    </tr>\n",
       "    <tr>\n",
       "      <th>2</th>\n",
       "      <td>602</td>\n",
       "      <td>Abudoureheman</td>\n",
       "      <td>Male</td>\n",
       "      <td>22</td>\n",
       "      <td>182.0</td>\n",
       "      <td>75.0</td>\n",
       "      <td>China</td>\n",
       "      <td>CHN</td>\n",
       "      <td>2000 Summer</td>\n",
       "      <td>2000</td>\n",
       "      <td>Summer</td>\n",
       "      <td>Sydney</td>\n",
       "      <td>Boxing</td>\n",
       "      <td>Boxing Men's Middleweight</td>\n",
       "      <td>No Medal</td>\n",
       "      <td>China</td>\n",
       "      <td>NaN</td>\n",
       "      <td>19-25</td>\n",
       "      <td>China - CHN</td>\n",
       "    </tr>\n",
       "    <tr>\n",
       "      <th>3</th>\n",
       "      <td>1463</td>\n",
       "      <td>Ai Linuer</td>\n",
       "      <td>Male</td>\n",
       "      <td>25</td>\n",
       "      <td>160.0</td>\n",
       "      <td>62.0</td>\n",
       "      <td>China</td>\n",
       "      <td>CHN</td>\n",
       "      <td>2004 Summer</td>\n",
       "      <td>2004</td>\n",
       "      <td>Summer</td>\n",
       "      <td>Athina</td>\n",
       "      <td>Wrestling</td>\n",
       "      <td>Wrestling Men's Lightweight, Greco-Roman</td>\n",
       "      <td>No Medal</td>\n",
       "      <td>China</td>\n",
       "      <td>NaN</td>\n",
       "      <td>19-25</td>\n",
       "      <td>China - CHN</td>\n",
       "    </tr>\n",
       "    <tr>\n",
       "      <th>4</th>\n",
       "      <td>1464</td>\n",
       "      <td>Ai Yanhan</td>\n",
       "      <td>Female</td>\n",
       "      <td>14</td>\n",
       "      <td>168.0</td>\n",
       "      <td>54.0</td>\n",
       "      <td>China</td>\n",
       "      <td>CHN</td>\n",
       "      <td>2016 Summer</td>\n",
       "      <td>2016</td>\n",
       "      <td>Summer</td>\n",
       "      <td>Rio de Janeiro</td>\n",
       "      <td>Swimming</td>\n",
       "      <td>Swimming Women's 200 metres Freestyle</td>\n",
       "      <td>No Medal</td>\n",
       "      <td>China</td>\n",
       "      <td>NaN</td>\n",
       "      <td>0-18</td>\n",
       "      <td>China - CHN</td>\n",
       "    </tr>\n",
       "  </tbody>\n",
       "</table>\n",
       "</div>"
      ],
      "text/plain": [
       "     ID           Name     Sex  Age  Height  Weight   Team  NOC        Games  \\\n",
       "0     1      A Dijiang    Male   24   180.0    80.0  China  CHN  1992 Summer   \n",
       "1     2       A Lamusi    Male   23   170.0    60.0  China  CHN  2012 Summer   \n",
       "2   602  Abudoureheman    Male   22   182.0    75.0  China  CHN  2000 Summer   \n",
       "3  1463      Ai Linuer    Male   25   160.0    62.0  China  CHN  2004 Summer   \n",
       "4  1464      Ai Yanhan  Female   14   168.0    54.0  China  CHN  2016 Summer   \n",
       "\n",
       "   Year  Season            City       Sport  \\\n",
       "0  1992  Summer       Barcelona  Basketball   \n",
       "1  2012  Summer          London        Judo   \n",
       "2  2000  Summer          Sydney      Boxing   \n",
       "3  2004  Summer          Athina   Wrestling   \n",
       "4  2016  Summer  Rio de Janeiro    Swimming   \n",
       "\n",
       "                                      Event     Medal Region Notes Age Group  \\\n",
       "0               Basketball Men's Basketball  No Medal  China   NaN     19-25   \n",
       "1              Judo Men's Extra-Lightweight  No Medal  China   NaN     19-25   \n",
       "2                 Boxing Men's Middleweight  No Medal  China   NaN     19-25   \n",
       "3  Wrestling Men's Lightweight, Greco-Roman  No Medal  China   NaN     19-25   \n",
       "4     Swimming Women's 200 metres Freestyle  No Medal  China   NaN      0-18   \n",
       "\n",
       "       Country  \n",
       "0  China - CHN  \n",
       "1  China - CHN  \n",
       "2  China - CHN  \n",
       "3  China - CHN  \n",
       "4  China - CHN  "
      ]
     },
     "execution_count": 27,
     "metadata": {},
     "output_type": "execute_result"
    }
   ],
   "source": [
    "df['Country'] = df['Region'] + ' - ' + df['NOC']\n",
    "df.head()"
   ]
  },
  {
   "cell_type": "markdown",
   "metadata": {},
   "source": [
    "Create a new column which performs a simple arithmatic function to produce the `'Decade'` column."
   ]
  },
  {
   "cell_type": "code",
   "execution_count": 28,
   "metadata": {},
   "outputs": [
    {
     "data": {
      "text/html": [
       "<div>\n",
       "<style scoped>\n",
       "    .dataframe tbody tr th:only-of-type {\n",
       "        vertical-align: middle;\n",
       "    }\n",
       "\n",
       "    .dataframe tbody tr th {\n",
       "        vertical-align: top;\n",
       "    }\n",
       "\n",
       "    .dataframe thead th {\n",
       "        text-align: right;\n",
       "    }\n",
       "</style>\n",
       "<table border=\"1\" class=\"dataframe\">\n",
       "  <thead>\n",
       "    <tr style=\"text-align: right;\">\n",
       "      <th></th>\n",
       "      <th>ID</th>\n",
       "      <th>Name</th>\n",
       "      <th>Sex</th>\n",
       "      <th>Age</th>\n",
       "      <th>Height</th>\n",
       "      <th>Weight</th>\n",
       "      <th>Team</th>\n",
       "      <th>NOC</th>\n",
       "      <th>Games</th>\n",
       "      <th>Year</th>\n",
       "      <th>Season</th>\n",
       "      <th>City</th>\n",
       "      <th>Sport</th>\n",
       "      <th>Event</th>\n",
       "      <th>Medal</th>\n",
       "      <th>Region</th>\n",
       "      <th>Notes</th>\n",
       "      <th>Age Group</th>\n",
       "      <th>Country</th>\n",
       "      <th>Decade</th>\n",
       "    </tr>\n",
       "  </thead>\n",
       "  <tbody>\n",
       "    <tr>\n",
       "      <th>0</th>\n",
       "      <td>1</td>\n",
       "      <td>A Dijiang</td>\n",
       "      <td>Male</td>\n",
       "      <td>24</td>\n",
       "      <td>180.0</td>\n",
       "      <td>80.0</td>\n",
       "      <td>China</td>\n",
       "      <td>CHN</td>\n",
       "      <td>1992 Summer</td>\n",
       "      <td>1992</td>\n",
       "      <td>Summer</td>\n",
       "      <td>Barcelona</td>\n",
       "      <td>Basketball</td>\n",
       "      <td>Basketball Men's Basketball</td>\n",
       "      <td>No Medal</td>\n",
       "      <td>China</td>\n",
       "      <td>NaN</td>\n",
       "      <td>19-25</td>\n",
       "      <td>China - CHN</td>\n",
       "      <td>1990</td>\n",
       "    </tr>\n",
       "    <tr>\n",
       "      <th>1</th>\n",
       "      <td>2</td>\n",
       "      <td>A Lamusi</td>\n",
       "      <td>Male</td>\n",
       "      <td>23</td>\n",
       "      <td>170.0</td>\n",
       "      <td>60.0</td>\n",
       "      <td>China</td>\n",
       "      <td>CHN</td>\n",
       "      <td>2012 Summer</td>\n",
       "      <td>2012</td>\n",
       "      <td>Summer</td>\n",
       "      <td>London</td>\n",
       "      <td>Judo</td>\n",
       "      <td>Judo Men's Extra-Lightweight</td>\n",
       "      <td>No Medal</td>\n",
       "      <td>China</td>\n",
       "      <td>NaN</td>\n",
       "      <td>19-25</td>\n",
       "      <td>China - CHN</td>\n",
       "      <td>2010</td>\n",
       "    </tr>\n",
       "    <tr>\n",
       "      <th>2</th>\n",
       "      <td>602</td>\n",
       "      <td>Abudoureheman</td>\n",
       "      <td>Male</td>\n",
       "      <td>22</td>\n",
       "      <td>182.0</td>\n",
       "      <td>75.0</td>\n",
       "      <td>China</td>\n",
       "      <td>CHN</td>\n",
       "      <td>2000 Summer</td>\n",
       "      <td>2000</td>\n",
       "      <td>Summer</td>\n",
       "      <td>Sydney</td>\n",
       "      <td>Boxing</td>\n",
       "      <td>Boxing Men's Middleweight</td>\n",
       "      <td>No Medal</td>\n",
       "      <td>China</td>\n",
       "      <td>NaN</td>\n",
       "      <td>19-25</td>\n",
       "      <td>China - CHN</td>\n",
       "      <td>2000</td>\n",
       "    </tr>\n",
       "    <tr>\n",
       "      <th>3</th>\n",
       "      <td>1463</td>\n",
       "      <td>Ai Linuer</td>\n",
       "      <td>Male</td>\n",
       "      <td>25</td>\n",
       "      <td>160.0</td>\n",
       "      <td>62.0</td>\n",
       "      <td>China</td>\n",
       "      <td>CHN</td>\n",
       "      <td>2004 Summer</td>\n",
       "      <td>2004</td>\n",
       "      <td>Summer</td>\n",
       "      <td>Athina</td>\n",
       "      <td>Wrestling</td>\n",
       "      <td>Wrestling Men's Lightweight, Greco-Roman</td>\n",
       "      <td>No Medal</td>\n",
       "      <td>China</td>\n",
       "      <td>NaN</td>\n",
       "      <td>19-25</td>\n",
       "      <td>China - CHN</td>\n",
       "      <td>2000</td>\n",
       "    </tr>\n",
       "    <tr>\n",
       "      <th>4</th>\n",
       "      <td>1464</td>\n",
       "      <td>Ai Yanhan</td>\n",
       "      <td>Female</td>\n",
       "      <td>14</td>\n",
       "      <td>168.0</td>\n",
       "      <td>54.0</td>\n",
       "      <td>China</td>\n",
       "      <td>CHN</td>\n",
       "      <td>2016 Summer</td>\n",
       "      <td>2016</td>\n",
       "      <td>Summer</td>\n",
       "      <td>Rio de Janeiro</td>\n",
       "      <td>Swimming</td>\n",
       "      <td>Swimming Women's 200 metres Freestyle</td>\n",
       "      <td>No Medal</td>\n",
       "      <td>China</td>\n",
       "      <td>NaN</td>\n",
       "      <td>0-18</td>\n",
       "      <td>China - CHN</td>\n",
       "      <td>2010</td>\n",
       "    </tr>\n",
       "  </tbody>\n",
       "</table>\n",
       "</div>"
      ],
      "text/plain": [
       "     ID           Name     Sex  Age  Height  Weight   Team  NOC        Games  \\\n",
       "0     1      A Dijiang    Male   24   180.0    80.0  China  CHN  1992 Summer   \n",
       "1     2       A Lamusi    Male   23   170.0    60.0  China  CHN  2012 Summer   \n",
       "2   602  Abudoureheman    Male   22   182.0    75.0  China  CHN  2000 Summer   \n",
       "3  1463      Ai Linuer    Male   25   160.0    62.0  China  CHN  2004 Summer   \n",
       "4  1464      Ai Yanhan  Female   14   168.0    54.0  China  CHN  2016 Summer   \n",
       "\n",
       "   Year  Season            City       Sport  \\\n",
       "0  1992  Summer       Barcelona  Basketball   \n",
       "1  2012  Summer          London        Judo   \n",
       "2  2000  Summer          Sydney      Boxing   \n",
       "3  2004  Summer          Athina   Wrestling   \n",
       "4  2016  Summer  Rio de Janeiro    Swimming   \n",
       "\n",
       "                                      Event     Medal Region Notes Age Group  \\\n",
       "0               Basketball Men's Basketball  No Medal  China   NaN     19-25   \n",
       "1              Judo Men's Extra-Lightweight  No Medal  China   NaN     19-25   \n",
       "2                 Boxing Men's Middleweight  No Medal  China   NaN     19-25   \n",
       "3  Wrestling Men's Lightweight, Greco-Roman  No Medal  China   NaN     19-25   \n",
       "4     Swimming Women's 200 metres Freestyle  No Medal  China   NaN      0-18   \n",
       "\n",
       "       Country  Decade  \n",
       "0  China - CHN    1990  \n",
       "1  China - CHN    2010  \n",
       "2  China - CHN    2000  \n",
       "3  China - CHN    2000  \n",
       "4  China - CHN    2010  "
      ]
     },
     "execution_count": 28,
     "metadata": {},
     "output_type": "execute_result"
    }
   ],
   "source": [
    "df['Decade'] = (df['Year'] // 10) * 10\n",
    "\n",
    "df.head()"
   ]
  },
  {
   "cell_type": "markdown",
   "metadata": {},
   "source": [
    "## Data analysis and Visualisations"
   ]
  },
  {
   "cell_type": "markdown",
   "metadata": {},
   "source": [
    "This section looks to answer the questions posed for this project using analysis and data visualisations. Note that this analysis only takes into account the Summer Olympics, a new data frame is created using a filter to only include Summer Olympic Events."
   ]
  },
  {
   "cell_type": "code",
   "execution_count": 29,
   "metadata": {},
   "outputs": [],
   "source": [
    "df_summer = df[df['Season'] == 'Summer'] # Through filtering, create a new dataframe that only considers Season = Summer."
   ]
  },
  {
   "cell_type": "markdown",
   "metadata": {},
   "source": [
    "### Average Ages over Time"
   ]
  },
  {
   "cell_type": "markdown",
   "metadata": {},
   "source": [
    "How the age of athletes has evolved over time."
   ]
  },
  {
   "cell_type": "code",
   "execution_count": 30,
   "metadata": {},
   "outputs": [
    {
     "data": {
      "text/plain": [
       "Decade\n",
       "1890    24.0\n",
       "1900    27.2\n",
       "1910    27.7\n",
       "1920    28.3\n",
       "1930    28.1\n",
       "1940    28.5\n",
       "1950    26.1\n",
       "1960    24.9\n",
       "1970    24.1\n",
       "1980    24.0\n",
       "1990    24.7\n",
       "2000    25.6\n",
       "2010    26.1\n",
       "Name: Age, dtype: float64"
      ]
     },
     "execution_count": 30,
     "metadata": {},
     "output_type": "execute_result"
    }
   ],
   "source": [
    "df_summer.groupby('Decade')['Age'].mean().round(1)"
   ]
  },
  {
   "cell_type": "markdown",
   "metadata": {},
   "source": [
    "#### Visualizing Ages by Decade on a Heat map."
   ]
  },
  {
   "cell_type": "code",
   "execution_count": 31,
   "metadata": {},
   "outputs": [
    {
     "data": {
      "image/png": "[encoded data removed]",
      "text/plain": [
       "<Figure size 1200x800 with 1 Axes>"
      ]
     },
     "metadata": {},
     "output_type": "display_data"
    }
   ],
   "source": [
    "heatmap_data = df_summer.pivot_table(index='Age', columns='Decade', aggfunc='size', fill_value=0)\n",
    "\n",
    "plt.figure(figsize=(12, 8))  \n",
    "ax = sns.heatmap(\n",
    "    heatmap_data, \n",
    "    cmap=\"Blues\",        \n",
    "    cbar=False           \n",
    ")\n",
    "\n",
    "ax.invert_yaxis() # The y axis defaulted to descending order originally\n",
    "\n",
    "plt.title(\"Heatmap of Age Distribution by Decade\", fontsize=16)\n",
    "plt.xlabel(\"Decade\", fontsize=12)\n",
    "plt.ylabel(\"Age\", fontsize=12)\n",
    "\n",
    "plt.savefig(\"heatmap_age_distribution.png\", format=\"png\", dpi=300)\n",
    "\n",
    "plt.show()"
   ]
  },
  {
   "cell_type": "markdown",
   "metadata": {},
   "source": [
    "Whilst the exact age trends are not very visible from this visualisation, it can be observed that the number of athletes participating in the olympics have increased considerably over the years, as denoted by darker hues in the latter years."
   ]
  },
  {
   "cell_type": "code",
   "execution_count": 32,
   "metadata": {},
   "outputs": [
    {
     "data": {
      "image/png": "[encoded data removed]",
      "text/plain": [
       "<Figure size 1200x600 with 1 Axes>"
      ]
     },
     "metadata": {},
     "output_type": "display_data"
    }
   ],
   "source": [
    "average_age_by_year = df_summer.groupby('Year')['Age'].mean().reset_index()\n",
    "\n",
    "plt.figure(figsize=(12, 6))  \n",
    "scatter_plot = sns.scatterplot(\n",
    "    data=average_age_by_year, \n",
    "    x='Year', \n",
    "    y='Age', \n",
    "    hue='Age',          \n",
    "    palette='magma',             \n",
    "    sizes=(20, 200),    \n",
    "    legend= True      \n",
    ")\n",
    "\n",
    "plt.title('Average Age of Athletes by Year', fontsize=16)\n",
    "plt.xlabel('Year', fontsize=12)\n",
    "plt.ylabel('Average Age', fontsize=12)\n",
    "plt.grid(True)\n",
    "\n",
    "plt.savefig('avg_age_by_year.png', format='png', dpi=300)\n",
    "\n",
    "plt.show()"
   ]
  },
  {
   "cell_type": "markdown",
   "metadata": {},
   "source": [
    "Based on research it can be deduced that the average ages of athletes in the Summer Olympics over the years have followed a somewhat cyclical pattern. Increasing from the 1890's to the 1920's, then decreasing until the 1980's, and increasing once again until 2016. According to a source published by \"The Arc Centre of Excellence in Population Ageing Research\", there are multiple reasons for these trends. It states that the compositional changes may have played a part in the early years, such as the lack of female representation in the Olympics towards the first half of the 20th century. Another reason for older athletes in this time frame is due to the events taking place. Art competitions in this time were particularly popular allowing older individuals to compete at the Olympics. The declining ages since World War 2 are largely due to the wider population demogrophic that existed as a fall out of the war [1]. Increasing ages of athletes since 1980 can be attributed to advancements in medicine, sports science and sporting equipment as well as growing revenues further incentivising athletes to compete for longer [2]."
   ]
  },
  {
   "cell_type": "markdown",
   "metadata": {},
   "source": [
    "### Gender Ratio over Time"
   ]
  },
  {
   "cell_type": "code",
   "execution_count": 33,
   "metadata": {},
   "outputs": [
    {
     "data": {
      "text/html": [
       "<div>\n",
       "<style scoped>\n",
       "    .dataframe tbody tr th:only-of-type {\n",
       "        vertical-align: middle;\n",
       "    }\n",
       "\n",
       "    .dataframe tbody tr th {\n",
       "        vertical-align: top;\n",
       "    }\n",
       "\n",
       "    .dataframe thead th {\n",
       "        text-align: right;\n",
       "    }\n",
       "</style>\n",
       "<table border=\"1\" class=\"dataframe\">\n",
       "  <thead>\n",
       "    <tr style=\"text-align: right;\">\n",
       "      <th>Sex</th>\n",
       "      <th>Female</th>\n",
       "      <th>Male</th>\n",
       "      <th>Male to Female Ratio</th>\n",
       "    </tr>\n",
       "    <tr>\n",
       "      <th>Decade</th>\n",
       "      <th></th>\n",
       "      <th></th>\n",
       "      <th></th>\n",
       "    </tr>\n",
       "  </thead>\n",
       "  <tbody>\n",
       "    <tr>\n",
       "      <th>1890</th>\n",
       "      <td>0</td>\n",
       "      <td>380</td>\n",
       "      <td>inf</td>\n",
       "    </tr>\n",
       "    <tr>\n",
       "      <th>1900</th>\n",
       "      <td>107</td>\n",
       "      <td>7894</td>\n",
       "      <td>73.775701</td>\n",
       "    </tr>\n",
       "    <tr>\n",
       "      <th>1910</th>\n",
       "      <td>87</td>\n",
       "      <td>3953</td>\n",
       "      <td>45.436782</td>\n",
       "    </tr>\n",
       "    <tr>\n",
       "      <th>1920</th>\n",
       "      <td>759</td>\n",
       "      <td>13299</td>\n",
       "      <td>17.521739</td>\n",
       "    </tr>\n",
       "    <tr>\n",
       "      <th>1930</th>\n",
       "      <td>712</td>\n",
       "      <td>8004</td>\n",
       "      <td>11.241573</td>\n",
       "    </tr>\n",
       "    <tr>\n",
       "      <th>1940</th>\n",
       "      <td>610</td>\n",
       "      <td>5698</td>\n",
       "      <td>9.340984</td>\n",
       "    </tr>\n",
       "    <tr>\n",
       "      <th>1950</th>\n",
       "      <td>2390</td>\n",
       "      <td>11007</td>\n",
       "      <td>4.605439</td>\n",
       "    </tr>\n",
       "    <tr>\n",
       "      <th>1960</th>\n",
       "      <td>4560</td>\n",
       "      <td>19849</td>\n",
       "      <td>4.352851</td>\n",
       "    </tr>\n",
       "    <tr>\n",
       "      <th>1970</th>\n",
       "      <td>4365</td>\n",
       "      <td>14580</td>\n",
       "      <td>3.340206</td>\n",
       "    </tr>\n",
       "    <tr>\n",
       "      <th>1980</th>\n",
       "      <td>7746</td>\n",
       "      <td>20936</td>\n",
       "      <td>2.702814</td>\n",
       "    </tr>\n",
       "    <tr>\n",
       "      <th>1990</th>\n",
       "      <td>9132</td>\n",
       "      <td>17625</td>\n",
       "      <td>1.930026</td>\n",
       "    </tr>\n",
       "    <tr>\n",
       "      <th>2000</th>\n",
       "      <td>16793</td>\n",
       "      <td>24073</td>\n",
       "      <td>1.433514</td>\n",
       "    </tr>\n",
       "    <tr>\n",
       "      <th>2010</th>\n",
       "      <td>12038</td>\n",
       "      <td>14570</td>\n",
       "      <td>1.210334</td>\n",
       "    </tr>\n",
       "  </tbody>\n",
       "</table>\n",
       "</div>"
      ],
      "text/plain": [
       "Sex     Female   Male  Male to Female Ratio\n",
       "Decade                                     \n",
       "1890         0    380                   inf\n",
       "1900       107   7894             73.775701\n",
       "1910        87   3953             45.436782\n",
       "1920       759  13299             17.521739\n",
       "1930       712   8004             11.241573\n",
       "1940       610   5698              9.340984\n",
       "1950      2390  11007              4.605439\n",
       "1960      4560  19849              4.352851\n",
       "1970      4365  14580              3.340206\n",
       "1980      7746  20936              2.702814\n",
       "1990      9132  17625              1.930026\n",
       "2000     16793  24073              1.433514\n",
       "2010     12038  14570              1.210334"
      ]
     },
     "execution_count": 33,
     "metadata": {},
     "output_type": "execute_result"
    }
   ],
   "source": [
    "gender_ratio = df_summer.groupby(['Decade', 'Sex']).size().unstack(fill_value=0)\n",
    "\n",
    "gender_ratio['Male to Female Ratio'] = (\n",
    "    gender_ratio['Male'] / gender_ratio['Female']\n",
    ") # Creating a new column using an arithmatic function to find the ratio of Male to Female athletes by decade\n",
    "\n",
    "gender_ratio"
   ]
  },
  {
   "cell_type": "code",
   "execution_count": 34,
   "metadata": {},
   "outputs": [
    {
     "data": {
      "image/png": "[encoded data removed]",
      "text/plain": [
       "<Figure size 1200x600 with 1 Axes>"
      ]
     },
     "metadata": {},
     "output_type": "display_data"
    }
   ],
   "source": [
    "gender_count_by_decade = df_summer.groupby(['Year', 'Sex']).size().reset_index(name='Count')\n",
    "\n",
    "plt.figure(figsize=(12, 6))\n",
    "\n",
    "sns.lineplot(\n",
    "    data=gender_count_by_decade, \n",
    "    x='Year', \n",
    "    y='Count', \n",
    "    hue='Sex'  \n",
    ")\n",
    "\n",
    "plt.title('Male and Female Athletes by Year', fontsize=16)\n",
    "plt.xlabel('Year', fontsize=12)\n",
    "plt.ylabel('Athlete Count', fontsize=12)\n",
    "plt.grid(True) \n",
    "\n",
    "plt.savefig('sex_by_decade.png', format='png', dpi=300)\n",
    "\n",
    "plt.show()"
   ]
  },
  {
   "cell_type": "markdown",
   "metadata": {},
   "source": [
    "Based on the previous analysis visual, it is observed that the general number of athletes competing in the Olympics has increased over the years. The ratio of male to female athletes has also improved considerably almost reaching an even split as of 2016. The rate of increase in female athletes has been on a rapid upwards trajectory since 1980. A key reason to this is the shift in attitudes towards female athletes in the second half of the 20th century [3]. Noticably there are three spikes in competing athletes in 1932, 1956 and 1980. Low participation in the 1932 Olympics can be attributed to the economic fallout from the great depression and difficulty in covering travel expenses to Los Angeles for many teams [4]. The 1956 games were plagued by boycotts due to political tensions in the Middle East and Europe [5]. Another political boycott marred the 1980 games leading to fewer athletes competing at in this event [6]."
   ]
  },
  {
   "cell_type": "markdown",
   "metadata": {},
   "source": [
    "### Effects of Female Representation"
   ]
  },
  {
   "cell_type": "markdown",
   "metadata": {},
   "source": [
    "The next section explores the most successful countries in the olympics as per their number of gold medals and to what extent female representation has affected their success."
   ]
  },
  {
   "cell_type": "markdown",
   "metadata": {},
   "source": [
    "Finding the countries with the highest gold medal count at the Olympics."
   ]
  },
  {
   "cell_type": "code",
   "execution_count": 35,
   "metadata": {},
   "outputs": [
    {
     "name": "stderr",
     "output_type": "stream",
     "text": [
      "C:\\Users\\Adil Moazzam\\AppData\\Local\\Temp\\ipykernel_30420\\3473509376.py:1: UserWarning: Boolean Series key will be reindexed to match DataFrame index.\n",
      "  gold_medals = df_summer[df['Medal'] == 'Gold']\n"
     ]
    },
    {
     "data": {
      "text/plain": [
       "Region\n",
       "USA          2472\n",
       "Russia       1220\n",
       "Germany      1075\n",
       "UK            635\n",
       "Italy         518\n",
       "France        463\n",
       "Hungary       432\n",
       "Australia     362\n",
       "Sweden        354\n",
       "China         335\n",
       "dtype: int64"
      ]
     },
     "execution_count": 35,
     "metadata": {},
     "output_type": "execute_result"
    }
   ],
   "source": [
    "gold_medals = df_summer[df['Medal'] == 'Gold']\n",
    "\n",
    "gold_medals_by_country = gold_medals.groupby('Region').size().sort_values(ascending=False)\n",
    "\n",
    "top_10_countries = gold_medals_by_country.head(10)\n",
    "\n",
    "top_10_countries"
   ]
  },
  {
   "cell_type": "code",
   "execution_count": 36,
   "metadata": {},
   "outputs": [
    {
     "data": {
      "image/png": "[encoded data removed]",
      "text/plain": [
       "<Figure size 640x480 with 1 Axes>"
      ]
     },
     "metadata": {},
     "output_type": "display_data"
    }
   ],
   "source": [
    "gold_medalists = df_summer[df_summer['Medal'] == 'Gold']\n",
    "\n",
    "gold_medal_count = gold_medalists.groupby('Region').size().reset_index(name='Gold Medals')\n",
    "\n",
    "top_5_countries = gold_medal_count.sort_values(by='Gold Medals', ascending=False).head(5)\n",
    "\n",
    "sns.barplot(x=\"Region\", y=\"Gold Medals\", data=top_5_countries, color='gold')\n",
    "\n",
    "plt.title('Top 5 Countries with the Most Gold Medals')\n",
    "plt.xlabel('Country')\n",
    "plt.ylabel('Gold Medals')\n",
    "plt.xticks(rotation=45)\n",
    "plt.tight_layout()  \n",
    "\n",
    "plt.savefig('top_five_gold_medals.png', format='png', dpi=300)\n",
    "plt.show()"
   ]
  },
  {
   "cell_type": "markdown",
   "metadata": {},
   "source": [
    "Team USA has more than double the amount of its second closest competitor in Russia. Russia is followed closely by Germany The UK and Italy."
   ]
  },
  {
   "cell_type": "markdown",
   "metadata": {},
   "source": [
    "#### Female Representation in Top 5 Teams"
   ]
  },
  {
   "cell_type": "markdown",
   "metadata": {},
   "source": [
    "The next visual focusses on female athletes competing for the top 5 highest performing countries."
   ]
  },
  {
   "cell_type": "code",
   "execution_count": 37,
   "metadata": {
    "scrolled": false
   },
   "outputs": [
    {
     "data": {
      "image/png": "[encoded data removed]",
      "text/plain": [
       "<Figure size 1600x1200 with 6 Axes>"
      ]
     },
     "metadata": {},
     "output_type": "display_data"
    }
   ],
   "source": [
    "gold_medalists = df_summer[df_summer['Medal'] == 'Gold']\n",
    "top_5_countries = gold_medalists['Region'].value_counts().head(5).index\n",
    "\n",
    "female_athletes = df_summer[(df_summer['Sex'] == 'Female') & (df_summer['Region'].isin(top_5_countries))]\n",
    "\n",
    "female_athletes_by_year = female_athletes.groupby(['Region', 'Year']).size().reset_index(name='Female Athletes')\n",
    "\n",
    "fig, axes = plt.subplots(3, 2, figsize=(16, 12), sharex=True, sharey=True)\n",
    "axes = axes.flatten()\n",
    "\n",
    "for ax, country in zip(axes, top_5_countries):\n",
    "    country_data = female_athletes_by_year[female_athletes_by_year['Region'] == country]\n",
    "    \n",
    "    ax.scatter(country_data['Year'], country_data['Female Athletes'], color='purple', edgecolor='black', s=50)\n",
    "    \n",
    "    # line of best fit\n",
    "    x = country_data['Year']\n",
    "    y = country_data['Female Athletes']\n",
    "    \n",
    "    slope, intercept = np.polyfit(x, y, 1)\n",
    "    line_of_best_fit = slope * x + intercept\n",
    "    \n",
    "    ax.plot(x, line_of_best_fit, color='red', linestyle='-', linewidth=2)\n",
    "    \n",
    "    # labels\n",
    "    ax.set_title(country, fontsize=10)\n",
    "    ax.set_xlabel('Year', fontsize=8)\n",
    "    ax.set_ylabel('Female Athletes', fontsize=8)\n",
    "    ax.tick_params(axis='x', rotation=45, labelsize=8)\n",
    "    ax.tick_params(axis='y', labelsize=8)\n",
    "\n",
    "plt.savefig('female_athletes_by_year.png', format='png', dpi=300)\n",
    "    \n",
    "plt.tight_layout()\n",
    "plt.suptitle('Number of Female Athletes by Year for Top 5 Countries with Most Gold Medals', fontsize=16, y=1.02)\n",
    "plt.show()"
   ]
  },
  {
   "cell_type": "markdown",
   "metadata": {},
   "source": [
    "The trend for all 5 countries follows the same general pattern, in that, the number of female representatives have increased over the years. Interestingly the rate of increase in the number of female athletes seems to be higher for The USA, Russia and Germany than that of The UK and Italy."
   ]
  },
  {
   "cell_type": "markdown",
   "metadata": {},
   "source": [
    "#### Top 5 Countries Medal counts by Year"
   ]
  },
  {
   "cell_type": "code",
   "execution_count": 38,
   "metadata": {
    "scrolled": false
   },
   "outputs": [
    {
     "data": {
      "image/png": "[encoded data removed]",
      "text/plain": [
       "<Figure size 1600x1200 with 6 Axes>"
      ]
     },
     "metadata": {},
     "output_type": "display_data"
    }
   ],
   "source": [
    "gold_medalists = df_summer[df_summer['Medal'] == 'Gold']\n",
    "\n",
    "top_5_countries = gold_medalists['Region'].value_counts().head(5).index\n",
    "\n",
    "top_countries_data = gold_medalists[gold_medalists['Region'].isin(top_5_countries)]\n",
    "\n",
    "gold_medals_by_year = top_countries_data.groupby(['Region', 'Year']).size().reset_index(name='Gold Medals')\n",
    "\n",
    "fig, axes = plt.subplots(3, 2, figsize=(16, 12), sharex=True, sharey=True)\n",
    "axes = axes.flatten()\n",
    "\n",
    "for ax, country in zip(axes, top_5_countries):\n",
    "    country_data = gold_medals_by_year[gold_medals_by_year['Region'] == country]\n",
    "    \n",
    "    ax.scatter(country_data['Year'], country_data['Gold Medals'], color='gold', edgecolor='black', s=50)\n",
    "    \n",
    "    x = country_data['Year']\n",
    "    y = country_data['Gold Medals']\n",
    "    \n",
    "    slope, intercept = np.polyfit(x, y, 1)\n",
    "    line_of_best_fit = slope * x + intercept\n",
    "    \n",
    "    ax.plot(x, line_of_best_fit, color='red', linestyle='-', linewidth=2)\n",
    "    \n",
    "    ax.set_title(country, fontsize=10)\n",
    "    ax.set_xlabel('Year', fontsize=8)\n",
    "    ax.set_ylabel('Gold Medals', fontsize=8)\n",
    "    ax.tick_params(axis='x', rotation=45, labelsize=8)\n",
    "    ax.tick_params(axis='y', labelsize=8)\n",
    "\n",
    "plt.savefig('gold_medals_by_year.png', format='png', dpi=300)\n",
    "\n",
    "plt.tight_layout()\n",
    "plt.suptitle('Gold Medals Won by Top 5 Countries by Year', fontsize=16, y=1.02)\n",
    "plt.show()"
   ]
  },
  {
   "cell_type": "markdown",
   "metadata": {},
   "source": [
    "Looking at this visual, it is apparent that for The USA Russia and Germany, there is a direct corelation between an increase in female representation and gold medals count. This is likely due to an increase in overall number of competing athletes, allowing for more opportunities to win gold medals. However, irrespective of increased female participation, The UK and Italy have experienced a downwards trend in gold medals achieved. This may be related to a lower rate of increase in participating athletes from these teams or possibly an inability to keep up with the athletic development of competing nations. "
   ]
  },
  {
   "cell_type": "markdown",
   "metadata": {},
   "source": [
    "## Data export"
   ]
  },
  {
   "cell_type": "markdown",
   "metadata": {},
   "source": [
    "Finally, in this section we will export the cleaned data frames we have used for this analysis as csv files. It is worth noting that all the visuals created have been exported as png files already."
   ]
  },
  {
   "cell_type": "code",
   "execution_count": 39,
   "metadata": {},
   "outputs": [],
   "source": [
    "df.to_csv('df_clean.csv', index = False)\n",
    "df_summer.to_csv('df_summer.csv', index = False)"
   ]
  },
  {
   "cell_type": "markdown",
   "metadata": {},
   "source": [
    "## Conclusion"
   ]
  },
  {
   "cell_type": "markdown",
   "metadata": {},
   "source": [
    "Based on this analysis, whilst historically a shift toward more athletic events in the Olympics has caused the average age of athletes to reduce throughout the first half of the 20th century, innovations in modern medicine coupled with stronger revenue generation mechanisms since 1980, has meant that the average age of athletes has increased over the past four decades. Athletes bodies and financial incentives now allow them to compete at a high level for longer and this trend is likely to continue.\n",
    "\n",
    "The chasm between male and female representation at the Olympics has been consistently shrinking due to changes in attitudes towards female athletes. Furthermore, this analysis only takes into account the 2016 and prior Olympics, however as per the Olympics official website, it is worth noting that as of 2024 the number of male and female participants were evenly split. [7]\n",
    "\n",
    "The rate of increase of female athletes represented in high performing nations does show some corelation with the overall performance with these countries. Interestingly all of these teams are from Western coutries, feeding the theory that cultural and societal roles of females have a big effect on the overall performance of countries at the Olympics.\n",
    "\n",
    "For further Analysis it is recommended to take a deeper look at the journey of The USA over the years. As a dominant force in the Olympics games it would be interesting to highlight trends and behaviour of this team to pin point how they built such a competitve athletic infrastructure."
   ]
  },
  {
   "cell_type": "markdown",
   "metadata": {},
   "source": [
    "## References"
   ]
  },
  {
   "cell_type": "markdown",
   "metadata": {},
   "source": [
    "[1] Rafal Chomik and Michael Jacinto (2021) \"Peak Performance Age In Sport\", Available at: https://cepar.edu.au/sites/default/files/peak-performance-age-sport.pdf <br>\n",
    "[2] Elmenshawy, A.R., Machin, D.R. and Tanaka, H. (2015). A rise in peak performance age in female athletes. doi:https://doi.org/10.1007/s11357-015-9795-8. <br>\n",
    "[3] Ogoura , K. (2022). The Olympics, Paralympics, and Gender: Participation of Female Athletes and the Principle of an Inclusive Society 115. [online] Available at: https://www.jstage.jst.go.jp/article/parasapo/17/0/17_115/_pdf.  <br>\n",
    "[4] Augustyn, A. (2011). Los Angeles 1932 Olympic Games. [online] Encyclopedia Britannica. Available at: https://www.britannica.com/event/Los-Angeles-1932-Olympic-Games. <br>\n",
    "[5] Grannan, C. (2016). 7 Significant Political Events at the Olympic Games. Encyclopedia Britannica. Available at: https://www.britannica.com/list/7-significant-political-events-at-the-olympic-games <br>\n",
    "[6] US Department of State (2019). The Olympic Boycott, 1980. [online] State.gov. Available at: https://2001-2009.state.gov/r/pa/ho/time/qfp/104481.htm. <br>\n",
    "[7] International Olympic Committee (2023). Gender equality through time: at the Olympic Games. [online] International Olympic Committee. Available at: https://olympics.com/ioc/gender-equality/gender-equality-through-time."
   ]
  },
  {
   "cell_type": "markdown",
   "metadata": {},
   "source": [
    "## Bibliography"
   ]
  },
  {
   "cell_type": "markdown",
   "metadata": {},
   "source": [
    "1. Pandas (2024). pandas documentation — pandas 1.0.1 documentation. [online] pandas.pydata.org. Available at: https://pandas.pydata.org/docs/. <br>\n",
    "2. Matplotlib (2024). Matplotlib: Python plotting — Matplotlib 3.3.4 documentation. [online] matplotlib.org. Available at: https://matplotlib.org/stable/index.html. <br>\n",
    "3. Python Software Foundation (2019). 3.7.3 Documentation. [online] Python.org. Available at: https://docs.python.org/3/.\n",
    "4. OpenAI, (2025). ChatGPT [online]. Available at: https://chat.openai.com [Accessed 2 January 2025]."
   ]
  }
 ],
 "metadata": {
  "kernelspec": {
   "display_name": "Python 3 (ipykernel)",
   "language": "python",
   "name": "python3"
  },
  "language_info": {
   "codemirror_mode": {
    "name": "ipython",
    "version": 3
   },
   "file_extension": ".py",
   "mimetype": "text/x-python",
   "name": "python",
   "nbconvert_exporter": "python",
   "pygments_lexer": "ipython3",
   "version": "3.10.9"
  }
 },
 "nbformat": 4,
 "nbformat_minor": 4
}
